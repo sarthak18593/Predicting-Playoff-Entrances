{
 "cells": [
  {
   "cell_type": "markdown",
   "metadata": {
    "nbpresent": {
     "id": "89144afc-8497-4e21-b559-0272e661f6f5"
    }
   },
   "source": [
    "# Sports Analysis\n",
    "#### What statistics can predict a top finish/playoff entry?\n",
    "\n",
    "Denis Bajic\n",
    "\n",
    "Arjun Tanguturi\n",
    "\n",
    "Sarthak Anand"
   ]
  },
  {
   "cell_type": "markdown",
   "metadata": {
    "nbpresent": {
     "id": "4e69cd29-af42-4a81-be1b-515240fcf797"
    }
   },
   "source": [
    "In this project, we look at three different sporting leagues: National Hockey League (NHL), English Premier League (EPL), and National Basketball Association (NBA), with the hope to see which statistics best predict playoff entrance (NBA, NHL) or a top 10 finish (EPL).  \n",
    "<br>\n",
    "In the case of the NBA and the NHL, we take 9 seasons worth of team statistics scraped from the following websites:\n",
    "* NBA: Real GM: http://basketball.realgm.com/\n",
    "* NHL: Puckalytics: http://stats.hockeyanalysis.com/\n",
    "\n",
    "<br>\n",
    "\n",
    "For the English Premier League, we take 7 seasons worth of team statistics scraped from:\n",
    "* EPL: WhoScored?: https://www.whoscored.com/\n",
    "\n",
    "<br>\n",
    "\n",
    "The idea is that given a combination of certain team statistics, we should be able to see which statistics are predictors of team success, either by influencing a team in making the playoffs, or obtaining a top-10 finish."
   ]
  },
  {
   "cell_type": "markdown",
   "metadata": {
    "nbpresent": {
     "id": "d90785dc-08b2-4f58-b917-d251d2722057"
    }
   },
   "source": [
    "The following code is the processing for NHL statistics from the 2007-2008 to 2015-2016 seasons."
   ]
  },
  {
   "cell_type": "code",
   "execution_count": 1,
   "metadata": {
    "collapsed": false,
    "nbpresent": {
     "id": "5d45638e-a2fe-4c43-bc18-ad389d0ab761"
    }
   },
   "outputs": [],
   "source": [
    "from bs4 import BeautifulSoup\n",
    "import csv\n",
    "import re\n",
    "from urllib.request import Request, urlopen\n",
    "import pandas as pd\n",
    "import fileinput\n",
    "\n",
    "def get_table_value(element):\n",
    "    return \" \".join(element.stripped_strings)\n",
    "\n",
    "# NHL data in HTML tables; scrape and convert to CSV format\n",
    "def scrape_data(url):\n",
    "    req = Request(url, headers={'User-Agent': 'Mozilla/5.0'}) # So we don't get 403 Error'ed\n",
    "    html = urlopen(req).read()\n",
    "\n",
    "    soup = BeautifulSoup(html, \"lxml\") # Process the HTML\n",
    "    f = open(\"testnhl.csv\", 'a')\n",
    "    output = csv.writer(f)\n",
    "\n",
    "    # Write HTML rows to CSV\n",
    "    for table in soup.find_all('table'):\n",
    "        for row in table.find_all('tr'):\n",
    "            col = map(get_table_value, row.find_all(re.compile('t[dh]')))\n",
    "            output.writerow(col)\n",
    "        output.writerow([]) \n",
    "\n",
    "    f.close()\n",
    "\n",
    "# Remove blank/unnecessary rows\n",
    "def remove_filler():\n",
    "    with open('testnhl.csv', 'r') as inp, open('testnhl2.csv', 'w') as out:\n",
    "        writer = csv.writer(out)\n",
    "        for row in csv.reader(inp):\n",
    "            if row and (not \"most\" in row[0]) and (not \"Season:\" in row[0]):\n",
    "                writer.writerow(row)"
   ]
  },
  {
   "cell_type": "code",
   "execution_count": 2,
   "metadata": {
    "collapsed": false,
    "nbpresent": {
     "id": "d67b10db-7850-42f4-9753-9aa6318af556"
    }
   },
   "outputs": [],
   "source": [
    "urls = [\"200708\",\"200809\",\"200910\",\"201011\",\"201112\",\"201213\",\"201314\",\"201415\",\"201516\"]\n",
    "# Scrape the data for each NHL season\n",
    "for url in urls:\n",
    "    scrape_data(\"http://stats.hockeyanalysis.com/teamstats.php?disp=1&db=\" + url + \"&sit=all&sort=team&sortdir=ASC\")\n",
    "remove_filler()"
   ]
  },
  {
   "cell_type": "code",
   "execution_count": 3,
   "metadata": {
    "collapsed": true,
    "nbpresent": {
     "id": "7cf7aa57-4d25-44fb-a572-4109393d2f49"
    }
   },
   "outputs": [],
   "source": [
    "df = pd.read_csv(\"testnhl2.csv\") # Load data into Pandas Dataframe"
   ]
  },
  {
   "cell_type": "code",
   "execution_count": 4,
   "metadata": {
    "collapsed": false,
    "nbpresent": {
     "id": "a65058f0-0d7c-4844-9fcd-70b9120ff727"
    }
   },
   "outputs": [],
   "source": [
    "# Drop rows that repeat header\n",
    "df.drop(df.index[[30,61,92,123,154,185,216,247]], inplace=True)"
   ]
  },
  {
   "cell_type": "code",
   "execution_count": 5,
   "metadata": {
    "collapsed": false,
    "nbpresent": {
     "id": "1c3c2d81-dad4-4736-896b-a7291980c87b"
    }
   },
   "outputs": [
    {
     "data": {
      "text/html": [
       "<div>\n",
       "<table border=\"1\" class=\"dataframe\">\n",
       "  <thead>\n",
       "    <tr style=\"text-align: right;\">\n",
       "      <th></th>\n",
       "      <th>#</th>\n",
       "      <th>Team</th>\n",
       "      <th>GP</th>\n",
       "      <th>TOI</th>\n",
       "      <th>GF</th>\n",
       "      <th>GA</th>\n",
       "      <th>GF60</th>\n",
       "      <th>GA60</th>\n",
       "      <th>GF%</th>\n",
       "      <th>SF</th>\n",
       "      <th>...</th>\n",
       "      <th>CA</th>\n",
       "      <th>CF60</th>\n",
       "      <th>CA60</th>\n",
       "      <th>CF%</th>\n",
       "      <th>Sh%</th>\n",
       "      <th>Sv%</th>\n",
       "      <th>PDO</th>\n",
       "      <th>OZFO%</th>\n",
       "      <th>DZFO%</th>\n",
       "      <th>NZFO%</th>\n",
       "    </tr>\n",
       "  </thead>\n",
       "  <tbody>\n",
       "    <tr>\n",
       "      <th>count</th>\n",
       "      <td>270</td>\n",
       "      <td>270</td>\n",
       "      <td>270</td>\n",
       "      <td>270</td>\n",
       "      <td>270</td>\n",
       "      <td>270</td>\n",
       "      <td>270</td>\n",
       "      <td>270</td>\n",
       "      <td>270</td>\n",
       "      <td>270</td>\n",
       "      <td>...</td>\n",
       "      <td>270</td>\n",
       "      <td>270</td>\n",
       "      <td>270</td>\n",
       "      <td>270</td>\n",
       "      <td>270</td>\n",
       "      <td>270</td>\n",
       "      <td>270</td>\n",
       "      <td>270</td>\n",
       "      <td>270</td>\n",
       "      <td>270</td>\n",
       "    </tr>\n",
       "    <tr>\n",
       "      <th>unique</th>\n",
       "      <td>30</td>\n",
       "      <td>30</td>\n",
       "      <td>3</td>\n",
       "      <td>261</td>\n",
       "      <td>104</td>\n",
       "      <td>114</td>\n",
       "      <td>97</td>\n",
       "      <td>106</td>\n",
       "      <td>128</td>\n",
       "      <td>221</td>\n",
       "      <td>...</td>\n",
       "      <td>245</td>\n",
       "      <td>130</td>\n",
       "      <td>131</td>\n",
       "      <td>102</td>\n",
       "      <td>185</td>\n",
       "      <td>181</td>\n",
       "      <td>56</td>\n",
       "      <td>83</td>\n",
       "      <td>84</td>\n",
       "      <td>78</td>\n",
       "    </tr>\n",
       "    <tr>\n",
       "      <th>top</th>\n",
       "      <td>12</td>\n",
       "      <td>Edmonton</td>\n",
       "      <td>82</td>\n",
       "      <td>5009:58</td>\n",
       "      <td>213</td>\n",
       "      <td>216</td>\n",
       "      <td>2.56</td>\n",
       "      <td>2.59</td>\n",
       "      <td>53.1</td>\n",
       "      <td>2427</td>\n",
       "      <td>...</td>\n",
       "      <td>4763</td>\n",
       "      <td>56.6</td>\n",
       "      <td>51.5</td>\n",
       "      <td>52.0</td>\n",
       "      <td>8.81</td>\n",
       "      <td>91.41</td>\n",
       "      <td>100.3</td>\n",
       "      <td>32.8</td>\n",
       "      <td>33.2</td>\n",
       "      <td>32.0</td>\n",
       "    </tr>\n",
       "    <tr>\n",
       "      <th>freq</th>\n",
       "      <td>9</td>\n",
       "      <td>9</td>\n",
       "      <td>230</td>\n",
       "      <td>2</td>\n",
       "      <td>9</td>\n",
       "      <td>6</td>\n",
       "      <td>8</td>\n",
       "      <td>7</td>\n",
       "      <td>7</td>\n",
       "      <td>3</td>\n",
       "      <td>...</td>\n",
       "      <td>3</td>\n",
       "      <td>9</td>\n",
       "      <td>7</td>\n",
       "      <td>9</td>\n",
       "      <td>5</td>\n",
       "      <td>4</td>\n",
       "      <td>16</td>\n",
       "      <td>11</td>\n",
       "      <td>11</td>\n",
       "      <td>10</td>\n",
       "    </tr>\n",
       "  </tbody>\n",
       "</table>\n",
       "<p>4 rows × 30 columns</p>\n",
       "</div>"
      ],
      "text/plain": [
       "          #      Team   GP      TOI   GF   GA  GF60  GA60   GF%    SF  ...   \\\n",
       "count   270       270  270      270  270  270   270   270   270   270  ...    \n",
       "unique   30        30    3      261  104  114    97   106   128   221  ...    \n",
       "top      12  Edmonton   82  5009:58  213  216  2.56  2.59  53.1  2427  ...    \n",
       "freq      9         9  230        2    9    6     8     7     7     3  ...    \n",
       "\n",
       "          CA  CF60  CA60   CF%   Sh%    Sv%    PDO OZFO% DZFO% NZFO%  \n",
       "count    270   270   270   270   270    270    270   270   270   270  \n",
       "unique   245   130   131   102   185    181     56    83    84    78  \n",
       "top     4763  56.6  51.5  52.0  8.81  91.41  100.3  32.8  33.2  32.0  \n",
       "freq       3     9     7     9     5      4     16    11    11    10  \n",
       "\n",
       "[4 rows x 30 columns]"
      ]
     },
     "execution_count": 5,
     "metadata": {},
     "output_type": "execute_result"
    }
   ],
   "source": [
    "df.describe() # Initial table size and description of features"
   ]
  },
  {
   "cell_type": "code",
   "execution_count": 6,
   "metadata": {
    "collapsed": false,
    "nbpresent": {
     "id": "7049fd29-f353-49b8-93c6-6f8feaaa5c2c"
    }
   },
   "outputs": [],
   "source": [
    "# Drop columns that don't contribute to anything\n",
    "\n",
    "# Drop the ID for each team\n",
    "df.drop(['#'], inplace=True, axis=1)\n",
    "\n",
    "# Drop columns that are already described by other encompassing statistics\n",
    "\n",
    "# GF, GA, and GF% are represented and normalized as GF60 and GA60\n",
    "# SF, SA, SF60, SA60, and SF% are represented and normalized as CF%\n",
    "df.drop([\"GF\", \"GA\", \"GF%\", \"SF\", \"SA\", \"SF60\", \"SA60\", \"SF%\"], inplace=True, axis=1)\n",
    "# FF, FA, FF60, FA60, FF%, CF, CA, CF60, CA60 are represented/normalized as CF%\n",
    "df.drop([\"FF\", \"FA\", \"FF60\", \"FA60\", \"FF%\", \"CF\", \"CA\", \"CF60\", \"CA60\"], inplace=True, axis=1)\n",
    "# PDO is represented as Sh% and Sv%\n",
    "df.drop([\"PDO\"], inplace=True, axis=1)"
   ]
  },
  {
   "cell_type": "code",
   "execution_count": 7,
   "metadata": {
    "collapsed": false,
    "nbpresent": {
     "id": "2831e487-1913-4e18-9af6-f651966d39a9"
    }
   },
   "outputs": [
    {
     "data": {
      "text/html": [
       "<div>\n",
       "<table border=\"1\" class=\"dataframe\">\n",
       "  <thead>\n",
       "    <tr style=\"text-align: right;\">\n",
       "      <th></th>\n",
       "      <th>Team</th>\n",
       "      <th>GP</th>\n",
       "      <th>TOI</th>\n",
       "      <th>GF60</th>\n",
       "      <th>GA60</th>\n",
       "      <th>CF%</th>\n",
       "      <th>Sh%</th>\n",
       "      <th>Sv%</th>\n",
       "      <th>OZFO%</th>\n",
       "      <th>DZFO%</th>\n",
       "      <th>NZFO%</th>\n",
       "    </tr>\n",
       "  </thead>\n",
       "  <tbody>\n",
       "    <tr>\n",
       "      <th>0</th>\n",
       "      <td>Anaheim</td>\n",
       "      <td>82</td>\n",
       "      <td>5002:05</td>\n",
       "      <td>2.35</td>\n",
       "      <td>2.21</td>\n",
       "      <td>50.7</td>\n",
       "      <td>8.76</td>\n",
       "      <td>91.98</td>\n",
       "      <td>31.2</td>\n",
       "      <td>29.5</td>\n",
       "      <td>39.2</td>\n",
       "    </tr>\n",
       "    <tr>\n",
       "      <th>1</th>\n",
       "      <td>Arizona</td>\n",
       "      <td>82</td>\n",
       "      <td>4934:33</td>\n",
       "      <td>2.50</td>\n",
       "      <td>2.70</td>\n",
       "      <td>49.0</td>\n",
       "      <td>8.41</td>\n",
       "      <td>91.08</td>\n",
       "      <td>30.6</td>\n",
       "      <td>31.7</td>\n",
       "      <td>37.7</td>\n",
       "    </tr>\n",
       "    <tr>\n",
       "      <th>2</th>\n",
       "      <td>Boston</td>\n",
       "      <td>82</td>\n",
       "      <td>4998:48</td>\n",
       "      <td>2.47</td>\n",
       "      <td>2.56</td>\n",
       "      <td>49.8</td>\n",
       "      <td>8.83</td>\n",
       "      <td>91.46</td>\n",
       "      <td>30.1</td>\n",
       "      <td>32.7</td>\n",
       "      <td>37.1</td>\n",
       "    </tr>\n",
       "    <tr>\n",
       "      <th>3</th>\n",
       "      <td>Buffalo</td>\n",
       "      <td>82</td>\n",
       "      <td>5009:58</td>\n",
       "      <td>3.01</td>\n",
       "      <td>2.79</td>\n",
       "      <td>50.2</td>\n",
       "      <td>10.14</td>\n",
       "      <td>89.97</td>\n",
       "      <td>31.6</td>\n",
       "      <td>29.6</td>\n",
       "      <td>38.8</td>\n",
       "    </tr>\n",
       "    <tr>\n",
       "      <th>4</th>\n",
       "      <td>Calgary</td>\n",
       "      <td>82</td>\n",
       "      <td>4973:02</td>\n",
       "      <td>2.73</td>\n",
       "      <td>2.70</td>\n",
       "      <td>52.0</td>\n",
       "      <td>9.76</td>\n",
       "      <td>90.39</td>\n",
       "      <td>31.2</td>\n",
       "      <td>30.1</td>\n",
       "      <td>38.7</td>\n",
       "    </tr>\n",
       "  </tbody>\n",
       "</table>\n",
       "</div>"
      ],
      "text/plain": [
       "      Team  GP      TOI  GF60  GA60   CF%    Sh%    Sv% OZFO% DZFO% NZFO%\n",
       "0  Anaheim  82  5002:05  2.35  2.21  50.7   8.76  91.98  31.2  29.5  39.2\n",
       "1  Arizona  82  4934:33  2.50  2.70  49.0   8.41  91.08  30.6  31.7  37.7\n",
       "2   Boston  82  4998:48  2.47  2.56  49.8   8.83  91.46  30.1  32.7  37.1\n",
       "3  Buffalo  82  5009:58  3.01  2.79  50.2  10.14  89.97  31.6  29.6  38.8\n",
       "4  Calgary  82  4973:02  2.73  2.70  52.0   9.76  90.39  31.2  30.1  38.7"
      ]
     },
     "execution_count": 7,
     "metadata": {},
     "output_type": "execute_result"
    }
   ],
   "source": [
    "df.head() # What does the data look like right now?"
   ]
  },
  {
   "cell_type": "markdown",
   "metadata": {
    "nbpresent": {
     "id": "de888bcd-58db-4a1e-8f8d-2a75a6862929"
    }
   },
   "source": [
    "There are 3 other features that we want to look at to get a better look at each team:\n",
    "* PP%\n",
    "* PK%\n",
    "* Playoffs\n",
    "\n",
    "This data was added in manually as it could not be scraped from a website."
   ]
  },
  {
   "cell_type": "code",
   "execution_count": 8,
   "metadata": {
    "collapsed": false,
    "nbpresent": {
     "id": "6a24a172-460b-461c-8c26-7e4a6c19a165"
    }
   },
   "outputs": [],
   "source": [
    "df = pd.read_csv(\"data/NHLStatsFinal.csv\") # Python-ready for analysis data"
   ]
  },
  {
   "cell_type": "markdown",
   "metadata": {
    "nbpresent": {
     "id": "3d8cb157-7ebf-43ba-9598-c37b1979d152"
    }
   },
   "source": [
    "Rationale for feature selection:\n",
    "\n",
    "* GF60: Goals Scored per 60 minutes - Measure of total offensive production. Higher number = better offense.\n",
    "* GA60: Goals Allowed per 60 minutes - Measure of defensive presence. Lower number = better defense.\n",
    "* CF% - Corsi For% - Measure of how much possession each team carried. Combines shots on goal + shots on target. Higher number = more possession\n",
    "* Sh% - Shot% - Measure of how accurately each team shot\n",
    "* Sv% - Save% - Measure of goaltender performance\n",
    "* PP% - Power Play% - How effective is a team scoring when playing 5 vs. 4(3)\n",
    "* PK% - Penalty Kill% - How well can a team avoid giving up goals playing 4(3) vs. 5\n",
    "* O/D/NZFO% - Offensive/Defensive/Neutral Zone Faceoff% - Proportion of faceoffs taken in each zone of the ice\n",
    "* Playoffs - Class Feature - Did that team make the playoffs?"
   ]
  },
  {
   "cell_type": "code",
   "execution_count": 9,
   "metadata": {
    "collapsed": false,
    "nbpresent": {
     "id": "efc7e68b-1d2e-4735-84cf-acbca8b0e361"
    }
   },
   "outputs": [
    {
     "data": {
      "text/html": [
       "<div>\n",
       "<table border=\"1\" class=\"dataframe\">\n",
       "  <thead>\n",
       "    <tr style=\"text-align: right;\">\n",
       "      <th></th>\n",
       "      <th>Unnamed: 0</th>\n",
       "      <th>Team</th>\n",
       "      <th>GP</th>\n",
       "      <th>TOI</th>\n",
       "      <th>GF60</th>\n",
       "      <th>GA60</th>\n",
       "      <th>CF%</th>\n",
       "      <th>Sh%</th>\n",
       "      <th>Sv%</th>\n",
       "      <th>OZFO%</th>\n",
       "      <th>DZFO%</th>\n",
       "      <th>NZFO%</th>\n",
       "      <th>PP%</th>\n",
       "      <th>PK%</th>\n",
       "      <th>Playoffs</th>\n",
       "    </tr>\n",
       "  </thead>\n",
       "  <tbody>\n",
       "    <tr>\n",
       "      <th>0</th>\n",
       "      <td>0</td>\n",
       "      <td>Anaheim</td>\n",
       "      <td>82</td>\n",
       "      <td>5002:05:00</td>\n",
       "      <td>2.35</td>\n",
       "      <td>2.21</td>\n",
       "      <td>50.7</td>\n",
       "      <td>8.76</td>\n",
       "      <td>91.98</td>\n",
       "      <td>31.2</td>\n",
       "      <td>29.5</td>\n",
       "      <td>39.2</td>\n",
       "      <td>16.6</td>\n",
       "      <td>83.1</td>\n",
       "      <td>Yes</td>\n",
       "    </tr>\n",
       "    <tr>\n",
       "      <th>1</th>\n",
       "      <td>1</td>\n",
       "      <td>Arizona</td>\n",
       "      <td>82</td>\n",
       "      <td>4934:33:00</td>\n",
       "      <td>2.50</td>\n",
       "      <td>2.70</td>\n",
       "      <td>49.0</td>\n",
       "      <td>8.41</td>\n",
       "      <td>91.08</td>\n",
       "      <td>30.6</td>\n",
       "      <td>31.7</td>\n",
       "      <td>37.7</td>\n",
       "      <td>18.6</td>\n",
       "      <td>80.7</td>\n",
       "      <td>No</td>\n",
       "    </tr>\n",
       "    <tr>\n",
       "      <th>2</th>\n",
       "      <td>2</td>\n",
       "      <td>Boston</td>\n",
       "      <td>82</td>\n",
       "      <td>4998:48:00</td>\n",
       "      <td>2.47</td>\n",
       "      <td>2.56</td>\n",
       "      <td>49.8</td>\n",
       "      <td>8.83</td>\n",
       "      <td>91.46</td>\n",
       "      <td>30.1</td>\n",
       "      <td>32.7</td>\n",
       "      <td>37.1</td>\n",
       "      <td>17.2</td>\n",
       "      <td>78.6</td>\n",
       "      <td>Yes</td>\n",
       "    </tr>\n",
       "    <tr>\n",
       "      <th>3</th>\n",
       "      <td>3</td>\n",
       "      <td>Buffalo</td>\n",
       "      <td>82</td>\n",
       "      <td>5009:58:00</td>\n",
       "      <td>3.01</td>\n",
       "      <td>2.79</td>\n",
       "      <td>50.2</td>\n",
       "      <td>10.14</td>\n",
       "      <td>89.97</td>\n",
       "      <td>31.6</td>\n",
       "      <td>29.6</td>\n",
       "      <td>38.8</td>\n",
       "      <td>18.0</td>\n",
       "      <td>83.2</td>\n",
       "      <td>No</td>\n",
       "    </tr>\n",
       "    <tr>\n",
       "      <th>4</th>\n",
       "      <td>4</td>\n",
       "      <td>Calgary</td>\n",
       "      <td>82</td>\n",
       "      <td>4973:02:00</td>\n",
       "      <td>2.73</td>\n",
       "      <td>2.70</td>\n",
       "      <td>52.0</td>\n",
       "      <td>9.76</td>\n",
       "      <td>90.39</td>\n",
       "      <td>31.2</td>\n",
       "      <td>30.1</td>\n",
       "      <td>38.7</td>\n",
       "      <td>16.8</td>\n",
       "      <td>81.5</td>\n",
       "      <td>Yes</td>\n",
       "    </tr>\n",
       "  </tbody>\n",
       "</table>\n",
       "</div>"
      ],
      "text/plain": [
       "   Unnamed: 0     Team  GP         TOI  GF60  GA60   CF%    Sh%    Sv%  OZFO%  \\\n",
       "0           0  Anaheim  82  5002:05:00  2.35  2.21  50.7   8.76  91.98   31.2   \n",
       "1           1  Arizona  82  4934:33:00  2.50  2.70  49.0   8.41  91.08   30.6   \n",
       "2           2   Boston  82  4998:48:00  2.47  2.56  49.8   8.83  91.46   30.1   \n",
       "3           3  Buffalo  82  5009:58:00  3.01  2.79  50.2  10.14  89.97   31.6   \n",
       "4           4  Calgary  82  4973:02:00  2.73  2.70  52.0   9.76  90.39   31.2   \n",
       "\n",
       "   DZFO%  NZFO%   PP%   PK% Playoffs  \n",
       "0   29.5   39.2  16.6  83.1      Yes  \n",
       "1   31.7   37.7  18.6  80.7       No  \n",
       "2   32.7   37.1  17.2  78.6      Yes  \n",
       "3   29.6   38.8  18.0  83.2       No  \n",
       "4   30.1   38.7  16.8  81.5      Yes  "
      ]
     },
     "execution_count": 9,
     "metadata": {},
     "output_type": "execute_result"
    }
   ],
   "source": [
    "df.head() # Data should be the same"
   ]
  },
  {
   "cell_type": "code",
   "execution_count": 10,
   "metadata": {
    "collapsed": false,
    "nbpresent": {
     "id": "eb56e406-988d-43b2-aaa3-df86c90a5833"
    }
   },
   "outputs": [],
   "source": [
    "# Still have to do a little bit of cleanup...\n",
    "df.drop(['Unnamed: 0', 'GP', 'TOI'], inplace=True, axis=1)\n",
    "pd.DataFrame.to_csv(df, \"NHLStats.csv\", index=False)\n",
    "df.drop(['Team'], inplace=True, axis=1)"
   ]
  },
  {
   "cell_type": "code",
   "execution_count": 11,
   "metadata": {
    "collapsed": false,
    "nbpresent": {
     "id": "82b932df-8e55-47c3-83d2-0d075fcf3148"
    }
   },
   "outputs": [
    {
     "data": {
      "text/html": [
       "<div>\n",
       "<table border=\"1\" class=\"dataframe\">\n",
       "  <thead>\n",
       "    <tr style=\"text-align: right;\">\n",
       "      <th></th>\n",
       "      <th>GF60</th>\n",
       "      <th>GA60</th>\n",
       "      <th>CF%</th>\n",
       "      <th>Sh%</th>\n",
       "      <th>Sv%</th>\n",
       "      <th>OZFO%</th>\n",
       "      <th>DZFO%</th>\n",
       "      <th>NZFO%</th>\n",
       "      <th>PP%</th>\n",
       "      <th>PK%</th>\n",
       "      <th>Playoffs</th>\n",
       "    </tr>\n",
       "  </thead>\n",
       "  <tbody>\n",
       "    <tr>\n",
       "      <th>0</th>\n",
       "      <td>2.35</td>\n",
       "      <td>2.21</td>\n",
       "      <td>50.7</td>\n",
       "      <td>8.76</td>\n",
       "      <td>91.98</td>\n",
       "      <td>31.2</td>\n",
       "      <td>29.5</td>\n",
       "      <td>39.2</td>\n",
       "      <td>16.6</td>\n",
       "      <td>83.1</td>\n",
       "      <td>Yes</td>\n",
       "    </tr>\n",
       "    <tr>\n",
       "      <th>1</th>\n",
       "      <td>2.50</td>\n",
       "      <td>2.70</td>\n",
       "      <td>49.0</td>\n",
       "      <td>8.41</td>\n",
       "      <td>91.08</td>\n",
       "      <td>30.6</td>\n",
       "      <td>31.7</td>\n",
       "      <td>37.7</td>\n",
       "      <td>18.6</td>\n",
       "      <td>80.7</td>\n",
       "      <td>No</td>\n",
       "    </tr>\n",
       "    <tr>\n",
       "      <th>2</th>\n",
       "      <td>2.47</td>\n",
       "      <td>2.56</td>\n",
       "      <td>49.8</td>\n",
       "      <td>8.83</td>\n",
       "      <td>91.46</td>\n",
       "      <td>30.1</td>\n",
       "      <td>32.7</td>\n",
       "      <td>37.1</td>\n",
       "      <td>17.2</td>\n",
       "      <td>78.6</td>\n",
       "      <td>Yes</td>\n",
       "    </tr>\n",
       "    <tr>\n",
       "      <th>3</th>\n",
       "      <td>3.01</td>\n",
       "      <td>2.79</td>\n",
       "      <td>50.2</td>\n",
       "      <td>10.14</td>\n",
       "      <td>89.97</td>\n",
       "      <td>31.6</td>\n",
       "      <td>29.6</td>\n",
       "      <td>38.8</td>\n",
       "      <td>18.0</td>\n",
       "      <td>83.2</td>\n",
       "      <td>No</td>\n",
       "    </tr>\n",
       "    <tr>\n",
       "      <th>4</th>\n",
       "      <td>2.73</td>\n",
       "      <td>2.70</td>\n",
       "      <td>52.0</td>\n",
       "      <td>9.76</td>\n",
       "      <td>90.39</td>\n",
       "      <td>31.2</td>\n",
       "      <td>30.1</td>\n",
       "      <td>38.7</td>\n",
       "      <td>16.8</td>\n",
       "      <td>81.5</td>\n",
       "      <td>Yes</td>\n",
       "    </tr>\n",
       "  </tbody>\n",
       "</table>\n",
       "</div>"
      ],
      "text/plain": [
       "   GF60  GA60   CF%    Sh%    Sv%  OZFO%  DZFO%  NZFO%   PP%   PK% Playoffs\n",
       "0  2.35  2.21  50.7   8.76  91.98   31.2   29.5   39.2  16.6  83.1      Yes\n",
       "1  2.50  2.70  49.0   8.41  91.08   30.6   31.7   37.7  18.6  80.7       No\n",
       "2  2.47  2.56  49.8   8.83  91.46   30.1   32.7   37.1  17.2  78.6      Yes\n",
       "3  3.01  2.79  50.2  10.14  89.97   31.6   29.6   38.8  18.0  83.2       No\n",
       "4  2.73  2.70  52.0   9.76  90.39   31.2   30.1   38.7  16.8  81.5      Yes"
      ]
     },
     "execution_count": 11,
     "metadata": {},
     "output_type": "execute_result"
    }
   ],
   "source": [
    "df.head() # Only numeric statistics are left over"
   ]
  },
  {
   "cell_type": "code",
   "execution_count": 12,
   "metadata": {
    "collapsed": true,
    "nbpresent": {
     "id": "100f4c16-65cc-4d05-8e6e-e402ce9f2984"
    }
   },
   "outputs": [],
   "source": [
    "Y = df.pop(\"Playoffs\") # Pop the classes from the dataframe"
   ]
  },
  {
   "cell_type": "code",
   "execution_count": 13,
   "metadata": {
    "collapsed": false,
    "nbpresent": {
     "id": "0dbbaa96-59f2-426a-894b-c9c753ca1200"
    }
   },
   "outputs": [
    {
     "data": {
      "text/plain": [
       "<matplotlib.axes._subplots.AxesSubplot at 0x4e77780>"
      ]
     },
     "execution_count": 13,
     "metadata": {},
     "output_type": "execute_result"
    },
    {
     "data": {
      "image/png": "[encoded data removed]",
      "text/plain": [
       "<matplotlib.figure.Figure at 0x96ca3c8>"
      ]
     },
     "metadata": {},
     "output_type": "display_data"
    }
   ],
   "source": [
    "# Bar plot of frequencies of target playoff variable\n",
    "import matplotlib.pyplot as plt\n",
    "% matplotlib inline\n",
    "Y.value_counts().plot(kind='bar')"
   ]
  },
  {
   "cell_type": "code",
   "execution_count": 14,
   "metadata": {
    "collapsed": false,
    "nbpresent": {
     "id": "fddce997-a373-40f1-a1b5-ebf7bb96cb59"
    }
   },
   "outputs": [
    {
     "name": "stdout",
     "output_type": "stream",
     "text": [
      "Shape:  (270, 10)\n"
     ]
    },
    {
     "data": {
      "text/html": [
       "<div>\n",
       "<table border=\"1\" class=\"dataframe\">\n",
       "  <thead>\n",
       "    <tr style=\"text-align: right;\">\n",
       "      <th></th>\n",
       "      <th>GF60</th>\n",
       "      <th>GA60</th>\n",
       "      <th>CF%</th>\n",
       "      <th>Sh%</th>\n",
       "      <th>Sv%</th>\n",
       "      <th>OZFO%</th>\n",
       "      <th>DZFO%</th>\n",
       "      <th>NZFO%</th>\n",
       "      <th>PP%</th>\n",
       "      <th>PK%</th>\n",
       "    </tr>\n",
       "  </thead>\n",
       "  <tbody>\n",
       "    <tr>\n",
       "      <th>count</th>\n",
       "      <td>270.000000</td>\n",
       "      <td>270.000000</td>\n",
       "      <td>270.000000</td>\n",
       "      <td>270.000000</td>\n",
       "      <td>270.000000</td>\n",
       "      <td>270.000000</td>\n",
       "      <td>270.000000</td>\n",
       "      <td>270.000000</td>\n",
       "      <td>270.000000</td>\n",
       "      <td>270.000000</td>\n",
       "    </tr>\n",
       "    <tr>\n",
       "      <th>mean</th>\n",
       "      <td>2.660333</td>\n",
       "      <td>2.660148</td>\n",
       "      <td>50.000741</td>\n",
       "      <td>9.068222</td>\n",
       "      <td>90.934630</td>\n",
       "      <td>33.146667</td>\n",
       "      <td>33.117778</td>\n",
       "      <td>33.740370</td>\n",
       "      <td>18.056667</td>\n",
       "      <td>81.752963</td>\n",
       "    </tr>\n",
       "    <tr>\n",
       "      <th>std</th>\n",
       "      <td>0.278528</td>\n",
       "      <td>0.302602</td>\n",
       "      <td>2.811276</td>\n",
       "      <td>0.841041</td>\n",
       "      <td>0.875281</td>\n",
       "      <td>1.953200</td>\n",
       "      <td>2.159783</td>\n",
       "      <td>2.115521</td>\n",
       "      <td>2.719271</td>\n",
       "      <td>2.981138</td>\n",
       "    </tr>\n",
       "    <tr>\n",
       "      <th>min</th>\n",
       "      <td>1.790000</td>\n",
       "      <td>1.860000</td>\n",
       "      <td>38.000000</td>\n",
       "      <td>6.900000</td>\n",
       "      <td>88.460000</td>\n",
       "      <td>26.700000</td>\n",
       "      <td>25.000000</td>\n",
       "      <td>30.200000</td>\n",
       "      <td>10.000000</td>\n",
       "      <td>71.900000</td>\n",
       "    </tr>\n",
       "    <tr>\n",
       "      <th>25%</th>\n",
       "      <td>2.472500</td>\n",
       "      <td>2.442500</td>\n",
       "      <td>48.100000</td>\n",
       "      <td>8.552500</td>\n",
       "      <td>90.267500</td>\n",
       "      <td>32.000000</td>\n",
       "      <td>32.000000</td>\n",
       "      <td>32.200000</td>\n",
       "      <td>16.100000</td>\n",
       "      <td>80.100000</td>\n",
       "    </tr>\n",
       "    <tr>\n",
       "      <th>50%</th>\n",
       "      <td>2.645000</td>\n",
       "      <td>2.640000</td>\n",
       "      <td>50.200000</td>\n",
       "      <td>9.050000</td>\n",
       "      <td>91.015000</td>\n",
       "      <td>33.150000</td>\n",
       "      <td>33.100000</td>\n",
       "      <td>33.200000</td>\n",
       "      <td>17.950000</td>\n",
       "      <td>81.750000</td>\n",
       "    </tr>\n",
       "    <tr>\n",
       "      <th>75%</th>\n",
       "      <td>2.840000</td>\n",
       "      <td>2.860000</td>\n",
       "      <td>52.000000</td>\n",
       "      <td>9.597500</td>\n",
       "      <td>91.517500</td>\n",
       "      <td>34.400000</td>\n",
       "      <td>34.375000</td>\n",
       "      <td>34.500000</td>\n",
       "      <td>19.400000</td>\n",
       "      <td>83.700000</td>\n",
       "    </tr>\n",
       "    <tr>\n",
       "      <th>max</th>\n",
       "      <td>3.740000</td>\n",
       "      <td>3.500000</td>\n",
       "      <td>59.100000</td>\n",
       "      <td>11.600000</td>\n",
       "      <td>93.340000</td>\n",
       "      <td>38.400000</td>\n",
       "      <td>40.300000</td>\n",
       "      <td>40.700000</td>\n",
       "      <td>26.800000</td>\n",
       "      <td>89.600000</td>\n",
       "    </tr>\n",
       "  </tbody>\n",
       "</table>\n",
       "</div>"
      ],
      "text/plain": [
       "             GF60        GA60         CF%         Sh%         Sv%       OZFO%  \\\n",
       "count  270.000000  270.000000  270.000000  270.000000  270.000000  270.000000   \n",
       "mean     2.660333    2.660148   50.000741    9.068222   90.934630   33.146667   \n",
       "std      0.278528    0.302602    2.811276    0.841041    0.875281    1.953200   \n",
       "min      1.790000    1.860000   38.000000    6.900000   88.460000   26.700000   \n",
       "25%      2.472500    2.442500   48.100000    8.552500   90.267500   32.000000   \n",
       "50%      2.645000    2.640000   50.200000    9.050000   91.015000   33.150000   \n",
       "75%      2.840000    2.860000   52.000000    9.597500   91.517500   34.400000   \n",
       "max      3.740000    3.500000   59.100000   11.600000   93.340000   38.400000   \n",
       "\n",
       "            DZFO%       NZFO%         PP%         PK%  \n",
       "count  270.000000  270.000000  270.000000  270.000000  \n",
       "mean    33.117778   33.740370   18.056667   81.752963  \n",
       "std      2.159783    2.115521    2.719271    2.981138  \n",
       "min     25.000000   30.200000   10.000000   71.900000  \n",
       "25%     32.000000   32.200000   16.100000   80.100000  \n",
       "50%     33.100000   33.200000   17.950000   81.750000  \n",
       "75%     34.375000   34.500000   19.400000   83.700000  \n",
       "max     40.300000   40.700000   26.800000   89.600000  "
      ]
     },
     "execution_count": 14,
     "metadata": {},
     "output_type": "execute_result"
    }
   ],
   "source": [
    "# Print data shape and statistics for the other features\n",
    "print(\"Shape: \", df.shape)\n",
    "df.describe() # Statistics for numerical features"
   ]
  },
  {
   "cell_type": "code",
   "execution_count": 15,
   "metadata": {
    "collapsed": false,
    "nbpresent": {
     "id": "6ce2aad3-3512-4060-9e6b-766a5d006dad"
    }
   },
   "outputs": [
    {
     "data": {
      "text/plain": [
       "<matplotlib.text.Text at 0x962f588>"
      ]
     },
     "execution_count": 15,
     "metadata": {},
     "output_type": "execute_result"
    },
    {
     "data": {
      "image/png": "[encoded data removed]",
      "text/plain": [
       "<matplotlib.figure.Figure at 0xb09df60>"
      ]
     },
     "metadata": {},
     "output_type": "display_data"
    },
    {
     "data": {
      "image/png": "[encoded data removed]",
      "text/plain": [
       "<matplotlib.figure.Figure at 0xaa67080>"
      ]
     },
     "metadata": {},
     "output_type": "display_data"
    },
    {
     "data": {
      "image/png": "[encoded data removed]",
      "text/plain": [
       "<matplotlib.figure.Figure at 0x976da58>"
      ]
     },
     "metadata": {},
     "output_type": "display_data"
    },
    {
     "data": {
      "image/png": "[encoded data removed]",
      "text/plain": [
       "<matplotlib.figure.Figure at 0x95b1208>"
      ]
     },
     "metadata": {},
     "output_type": "display_data"
    },
    {
     "data": {
      "image/png": "[encoded data removed]",
      "text/plain": [
       "<matplotlib.figure.Figure at 0x93b6908>"
      ]
     },
     "metadata": {},
     "output_type": "display_data"
    },
    {
     "data": {
      "image/png": "[encoded data removed]",
      "text/plain": [
       "<matplotlib.figure.Figure at 0xa986da0>"
      ]
     },
     "metadata": {},
     "output_type": "display_data"
    },
    {
     "data": {
      "image/png": "[encoded data removed]",
      "text/plain": [
       "<matplotlib.figure.Figure at 0x92df9b0>"
      ]
     },
     "metadata": {},
     "output_type": "display_data"
    },
    {
     "data": {
      "image/png": "[encoded data removed]",
      "text/plain": [
       "<matplotlib.figure.Figure at 0xa8574e0>"
      ]
     },
     "metadata": {},
     "output_type": "display_data"
    },
    {
     "data": {
      "image/png": "[encoded data removed]",
      "text/plain": [
       "<matplotlib.figure.Figure at 0xaba8eb8>"
      ]
     },
     "metadata": {},
     "output_type": "display_data"
    },
    {
     "data": {
      "image/png": "[encoded data removed]",
      "text/plain": [
       "<matplotlib.figure.Figure at 0x94fef98>"
      ]
     },
     "metadata": {},
     "output_type": "display_data"
    }
   ],
   "source": [
    "# Histograms for numerical features [ADD LABELS]\n",
    "% matplotlib inline\n",
    "plt.figure(1)\n",
    "df['GF60'].plot(kind='hist', title='GF60')\n",
    "plt.xlabel('GF60')\n",
    "plt.figure(2)\n",
    "df['GA60'].plot(kind='hist', title='GA60')\n",
    "plt.xlabel('GA60')\n",
    "plt.figure(3)\n",
    "df['CF%'].plot(kind='hist', title='CF%')\n",
    "plt.xlabel('CF%')\n",
    "plt.figure(4)\n",
    "df['Sh%'].plot(kind='hist', title='Sh%')\n",
    "plt.xlabel('Sh%')\n",
    "plt.figure(5)\n",
    "df['Sv%'].plot(kind='hist', title='Sv%')\n",
    "plt.xlabel('Sv%')\n",
    "plt.figure(6)\n",
    "df['OZFO%'].plot(kind='hist', title='OZFO%')\n",
    "plt.xlabel('OZFO%')\n",
    "plt.figure(7)\n",
    "df['DZFO%'].plot(kind='hist', title='DZFO%')\n",
    "plt.xlabel('DZFO%')\n",
    "plt.figure(8)\n",
    "df['NZFO%'].plot(kind='hist', title='NZFO%')\n",
    "plt.xlabel('NZFO%')\n",
    "plt.figure(9)\n",
    "df['PP%'].plot(kind='hist', title='PP%')\n",
    "plt.xlabel('PP%')\n",
    "plt.figure(10)\n",
    "df['PK%'].plot(kind='hist', title='PK%')\n",
    "plt.xlabel('PK%')"
   ]
  },
  {
   "cell_type": "markdown",
   "metadata": {
    "collapsed": true,
    "nbpresent": {
     "id": "09e35267-94eb-4954-ab22-8b9b4d624559"
    }
   },
   "source": [
    "The following code is for the processing of EPL statistics from 2009-2010 to 2015-2016 seasons."
   ]
  },
  {
   "cell_type": "code",
   "execution_count": 16,
   "metadata": {
    "collapsed": false,
    "nbpresent": {
     "id": "60e6c324-08d2-4d30-be74-8f50f86bc3fc"
    }
   },
   "outputs": [],
   "source": [
    "# Read scraped data from CSV to Pandas Dataframes\n",
    "df1516 = pd.read_csv(\"data/PL201516.csv\")\n",
    "df1415 = pd.read_csv(\"data/PL201415.csv\")\n",
    "df1314 = pd.read_csv(\"data/PL201314.csv\")\n",
    "df1213 = pd.read_csv(\"data/PL201213.csv\")\n",
    "df1112 = pd.read_csv(\"data/PL201112.csv\")\n",
    "df1011 = pd.read_csv(\"data/PL201011.csv\")\n",
    "df0910 = pd.read_csv(\"data/PL200910.csv\")"
   ]
  },
  {
   "cell_type": "code",
   "execution_count": 17,
   "metadata": {
    "collapsed": true,
    "nbpresent": {
     "id": "06886db9-56c6-4b21-b220-1a329ff09571"
    }
   },
   "outputs": [],
   "source": [
    "# Create class labels\n",
    "label = ['Yes','Yes','Yes','Yes','Yes','Yes','Yes','Yes','Yes','Yes','No','No','No','No','No','No','No','No','No','No']\n",
    "Y = pd.DataFrame({'Top10': label})"
   ]
  },
  {
   "cell_type": "code",
   "execution_count": 18,
   "metadata": {
    "collapsed": true,
    "nbpresent": {
     "id": "4da9ce2e-f616-4cb7-b54c-ed4b99aada09"
    }
   },
   "outputs": [],
   "source": [
    "# Append labels to dataframes\n",
    "df1516 = pd.concat([df1516,Y], axis=1, join_axes=[df1516.index])\n",
    "df1415 = pd.concat([df1415,Y], axis=1, join_axes=[df1415.index])\n",
    "df1314 = pd.concat([df1314,Y], axis=1, join_axes=[df1314.index])\n",
    "df1213 = pd.concat([df1213,Y], axis=1, join_axes=[df1213.index])\n",
    "df1112 = pd.concat([df1112,Y], axis=1, join_axes=[df1112.index])\n",
    "df1011 = pd.concat([df1011,Y], axis=1, join_axes=[df1011.index])\n",
    "df0910 = pd.concat([df0910,Y], axis=1, join_axes=[df0910.index])"
   ]
  },
  {
   "cell_type": "code",
   "execution_count": 19,
   "metadata": {
    "collapsed": false,
    "nbpresent": {
     "id": "1980a55a-3e7b-4610-b94a-65169d811846"
    }
   },
   "outputs": [
    {
     "data": {
      "text/html": [
       "<div>\n",
       "<table border=\"1\" class=\"dataframe\">\n",
       "  <thead>\n",
       "    <tr style=\"text-align: right;\">\n",
       "      <th></th>\n",
       "      <th>No.</th>\n",
       "      <th>Team</th>\n",
       "      <th>Shots Per Game</th>\n",
       "      <th>Yellow Cards</th>\n",
       "      <th>Red Cards</th>\n",
       "      <th>Possession%</th>\n",
       "      <th>PassSuccess%</th>\n",
       "      <th>AerialsWon</th>\n",
       "      <th>Rating</th>\n",
       "      <th>Top10</th>\n",
       "    </tr>\n",
       "  </thead>\n",
       "  <tbody>\n",
       "    <tr>\n",
       "      <th>0</th>\n",
       "      <td>1</td>\n",
       "      <td>Arsenal</td>\n",
       "      <td>15.1</td>\n",
       "      <td>40</td>\n",
       "      <td>4</td>\n",
       "      <td>56.9</td>\n",
       "      <td>84.2</td>\n",
       "      <td>15.2</td>\n",
       "      <td>7.08</td>\n",
       "      <td>Yes</td>\n",
       "    </tr>\n",
       "    <tr>\n",
       "      <th>1</th>\n",
       "      <td>2</td>\n",
       "      <td>Leicester</td>\n",
       "      <td>13.7</td>\n",
       "      <td>48</td>\n",
       "      <td>3</td>\n",
       "      <td>44.8</td>\n",
       "      <td>70.5</td>\n",
       "      <td>18.8</td>\n",
       "      <td>7.06</td>\n",
       "      <td>Yes</td>\n",
       "    </tr>\n",
       "    <tr>\n",
       "      <th>2</th>\n",
       "      <td>3</td>\n",
       "      <td>Tottenham</td>\n",
       "      <td>17.3</td>\n",
       "      <td>72</td>\n",
       "      <td>0</td>\n",
       "      <td>55.3</td>\n",
       "      <td>80.5</td>\n",
       "      <td>14.3</td>\n",
       "      <td>7.01</td>\n",
       "      <td>Yes</td>\n",
       "    </tr>\n",
       "    <tr>\n",
       "      <th>3</th>\n",
       "      <td>4</td>\n",
       "      <td>Manchester City</td>\n",
       "      <td>16.2</td>\n",
       "      <td>61</td>\n",
       "      <td>0</td>\n",
       "      <td>55.2</td>\n",
       "      <td>83.1</td>\n",
       "      <td>15.7</td>\n",
       "      <td>7.01</td>\n",
       "      <td>Yes</td>\n",
       "    </tr>\n",
       "    <tr>\n",
       "      <th>4</th>\n",
       "      <td>5</td>\n",
       "      <td>West Ham</td>\n",
       "      <td>14.7</td>\n",
       "      <td>58</td>\n",
       "      <td>5</td>\n",
       "      <td>49.1</td>\n",
       "      <td>77.6</td>\n",
       "      <td>17.7</td>\n",
       "      <td>6.92</td>\n",
       "      <td>Yes</td>\n",
       "    </tr>\n",
       "  </tbody>\n",
       "</table>\n",
       "</div>"
      ],
      "text/plain": [
       "   No.            Team   Shots Per Game   Yellow Cards  Red Cards  \\\n",
       "0    1          Arsenal             15.1            40          4   \n",
       "1    2        Leicester             13.7            48          3   \n",
       "2    3        Tottenham             17.3            72          0   \n",
       "3    4  Manchester City             16.2            61          0   \n",
       "4    5         West Ham             14.7            58          5   \n",
       "\n",
       "   Possession%  PassSuccess%  AerialsWon  Rating Top10  \n",
       "0         56.9          84.2        15.2    7.08   Yes  \n",
       "1         44.8          70.5        18.8    7.06   Yes  \n",
       "2         55.3          80.5        14.3    7.01   Yes  \n",
       "3         55.2          83.1        15.7    7.01   Yes  \n",
       "4         49.1          77.6        17.7    6.92   Yes  "
      ]
     },
     "execution_count": 19,
     "metadata": {},
     "output_type": "execute_result"
    }
   ],
   "source": [
    "df1516.head() # What does the data look like?"
   ]
  },
  {
   "cell_type": "markdown",
   "metadata": {
    "nbpresent": {
     "id": "bbf4cb51-b604-47b5-a0a8-b2cde68f81e6"
    }
   },
   "source": [
    "Rationale for feature selection:\n",
    "\n",
    "* Shots Per Game: How many shots directed on target per game\n",
    "* Yellow Cards: How many cautions awarded to the team per season\n",
    "* Red Cards: How many ejections awared to the team per season\n",
    "* Possession%: How much possession each team carried on average\n",
    "* PassSuccess%: How successful each team was passing the ball\n",
    "* AerialsWon: How many aerial balls won for each team\n",
    "* PK% - Penalty Kill% - How well can a team avoid giving up goals playing 4(3) vs. 5\n",
    "* O/D/NZFO% - Offensive/Defensive/Neutral Zone Faceoff% - Proportion of faceoffs taken in each zone of the ice\n",
    "* Top10: Did the team finish in the top 10?"
   ]
  },
  {
   "cell_type": "code",
   "execution_count": 20,
   "metadata": {
    "collapsed": false,
    "nbpresent": {
     "id": "69446d0b-6694-4300-aaf5-afc52c5a3570"
    }
   },
   "outputs": [],
   "source": [
    "# Merge dataframes into one dataframe\n",
    "df = df1516.append([df1415, df1314, df1213, df1112, df1011, df0910])\n",
    "pd.DataFrame.to_csv(df, \"EPLStats.csv\", index=False)"
   ]
  },
  {
   "cell_type": "code",
   "execution_count": 21,
   "metadata": {
    "collapsed": true,
    "nbpresent": {
     "id": "50367b4a-d169-4b19-9f9d-5e5fd28b3004"
    }
   },
   "outputs": [],
   "source": [
    "# Drop unnecessary features\n",
    "df.drop(['No.','Team ','Rating'], inplace=True, axis=1)"
   ]
  },
  {
   "cell_type": "code",
   "execution_count": 22,
   "metadata": {
    "collapsed": false,
    "nbpresent": {
     "id": "0736769a-8eda-467b-8212-bb95566bdcf8"
    }
   },
   "outputs": [
    {
     "name": "stdout",
     "output_type": "stream",
     "text": [
      "(140, 7)\n"
     ]
    },
    {
     "data": {
      "text/html": [
       "<div>\n",
       "<table border=\"1\" class=\"dataframe\">\n",
       "  <thead>\n",
       "    <tr style=\"text-align: right;\">\n",
       "      <th></th>\n",
       "      <th>Shots Per Game</th>\n",
       "      <th>Yellow Cards</th>\n",
       "      <th>Red Cards</th>\n",
       "      <th>Possession%</th>\n",
       "      <th>PassSuccess%</th>\n",
       "      <th>AerialsWon</th>\n",
       "    </tr>\n",
       "  </thead>\n",
       "  <tbody>\n",
       "    <tr>\n",
       "      <th>count</th>\n",
       "      <td>140.000000</td>\n",
       "      <td>140.000000</td>\n",
       "      <td>140.000000</td>\n",
       "      <td>140.000000</td>\n",
       "      <td>140.000000</td>\n",
       "      <td>140.000000</td>\n",
       "    </tr>\n",
       "    <tr>\n",
       "      <th>mean</th>\n",
       "      <td>13.768571</td>\n",
       "      <td>60.878571</td>\n",
       "      <td>3.100000</td>\n",
       "      <td>50.002857</td>\n",
       "      <td>77.005000</td>\n",
       "      <td>15.917857</td>\n",
       "    </tr>\n",
       "    <tr>\n",
       "      <th>std</th>\n",
       "      <td>2.443788</td>\n",
       "      <td>9.407993</td>\n",
       "      <td>1.828236</td>\n",
       "      <td>4.346866</td>\n",
       "      <td>5.638847</td>\n",
       "      <td>3.783936</td>\n",
       "    </tr>\n",
       "    <tr>\n",
       "      <th>min</th>\n",
       "      <td>9.900000</td>\n",
       "      <td>40.000000</td>\n",
       "      <td>0.000000</td>\n",
       "      <td>41.000000</td>\n",
       "      <td>62.200000</td>\n",
       "      <td>5.900000</td>\n",
       "    </tr>\n",
       "    <tr>\n",
       "      <th>25%</th>\n",
       "      <td>11.850000</td>\n",
       "      <td>54.750000</td>\n",
       "      <td>2.000000</td>\n",
       "      <td>46.475000</td>\n",
       "      <td>73.600000</td>\n",
       "      <td>13.650000</td>\n",
       "    </tr>\n",
       "    <tr>\n",
       "      <th>50%</th>\n",
       "      <td>13.400000</td>\n",
       "      <td>60.000000</td>\n",
       "      <td>3.000000</td>\n",
       "      <td>49.500000</td>\n",
       "      <td>77.100000</td>\n",
       "      <td>15.700000</td>\n",
       "    </tr>\n",
       "    <tr>\n",
       "      <th>75%</th>\n",
       "      <td>15.225000</td>\n",
       "      <td>66.250000</td>\n",
       "      <td>4.000000</td>\n",
       "      <td>54.250000</td>\n",
       "      <td>81.650000</td>\n",
       "      <td>18.200000</td>\n",
       "    </tr>\n",
       "    <tr>\n",
       "      <th>max</th>\n",
       "      <td>21.900000</td>\n",
       "      <td>94.000000</td>\n",
       "      <td>9.000000</td>\n",
       "      <td>58.800000</td>\n",
       "      <td>85.500000</td>\n",
       "      <td>28.900000</td>\n",
       "    </tr>\n",
       "  </tbody>\n",
       "</table>\n",
       "</div>"
      ],
      "text/plain": [
       "       Shots Per Game   Yellow Cards   Red Cards  Possession%  PassSuccess%  \\\n",
       "count       140.000000    140.000000  140.000000   140.000000    140.000000   \n",
       "mean         13.768571     60.878571    3.100000    50.002857     77.005000   \n",
       "std           2.443788      9.407993    1.828236     4.346866      5.638847   \n",
       "min           9.900000     40.000000    0.000000    41.000000     62.200000   \n",
       "25%          11.850000     54.750000    2.000000    46.475000     73.600000   \n",
       "50%          13.400000     60.000000    3.000000    49.500000     77.100000   \n",
       "75%          15.225000     66.250000    4.000000    54.250000     81.650000   \n",
       "max          21.900000     94.000000    9.000000    58.800000     85.500000   \n",
       "\n",
       "       AerialsWon  \n",
       "count  140.000000  \n",
       "mean    15.917857  \n",
       "std      3.783936  \n",
       "min      5.900000  \n",
       "25%     13.650000  \n",
       "50%     15.700000  \n",
       "75%     18.200000  \n",
       "max     28.900000  "
      ]
     },
     "execution_count": 22,
     "metadata": {},
     "output_type": "execute_result"
    }
   ],
   "source": [
    "# Print data shape and statistics for numerical features\n",
    "print(df.shape)\n",
    "df.describe()"
   ]
  },
  {
   "cell_type": "code",
   "execution_count": 23,
   "metadata": {
    "collapsed": false,
    "nbpresent": {
     "id": "406ffadd-d24f-4bf8-9091-95f5220d6b34"
    }
   },
   "outputs": [
    {
     "data": {
      "text/plain": [
       "<matplotlib.axes._subplots.AxesSubplot at 0x93b6978>"
      ]
     },
     "execution_count": 23,
     "metadata": {},
     "output_type": "execute_result"
    },
    {
     "data": {
      "image/png": "[encoded data removed]",
      "text/plain": [
       "<matplotlib.figure.Figure at 0x977fa20>"
      ]
     },
     "metadata": {},
     "output_type": "display_data"
    }
   ],
   "source": [
    "# Visualize target variable\n",
    "Top10 = df.pop(\"Top10\")\n",
    "Top10.value_counts().plot(kind='bar', ylim=(0,90), title='Top 10 Finish Count')"
   ]
  },
  {
   "cell_type": "code",
   "execution_count": 24,
   "metadata": {
    "collapsed": false,
    "nbpresent": {
     "id": "38948d4e-5dfc-4900-9daa-e37d71851ed3"
    }
   },
   "outputs": [
    {
     "data": {
      "text/plain": [
       "<matplotlib.text.Text at 0xcb0ab70>"
      ]
     },
     "execution_count": 24,
     "metadata": {},
     "output_type": "execute_result"
    },
    {
     "data": {
      "image/png": "[encoded data removed]",
      "text/plain": [
       "<matplotlib.figure.Figure at 0xb0fbb70>"
      ]
     },
     "metadata": {},
     "output_type": "display_data"
    },
    {
     "data": {
      "image/png": "[encoded data removed]",
      "text/plain": [
       "<matplotlib.figure.Figure at 0xb0fb400>"
      ]
     },
     "metadata": {},
     "output_type": "display_data"
    },
    {
     "data": {
      "image/png": "[encoded data removed]",
      "text/plain": [
       "<matplotlib.figure.Figure at 0xc941cf8>"
      ]
     },
     "metadata": {},
     "output_type": "display_data"
    },
    {
     "data": {
      "image/png": "[encoded data removed]",
      "text/plain": [
       "<matplotlib.figure.Figure at 0xc9afcf8>"
      ]
     },
     "metadata": {},
     "output_type": "display_data"
    },
    {
     "data": {
      "image/png": "[encoded data removed]",
      "text/plain": [
       "<matplotlib.figure.Figure at 0xca22cc0>"
      ]
     },
     "metadata": {},
     "output_type": "display_data"
    },
    {
     "data": {
      "image/png": "[encoded data removed]",
      "text/plain": [
       "<matplotlib.figure.Figure at 0xca22588>"
      ]
     },
     "metadata": {},
     "output_type": "display_data"
    }
   ],
   "source": [
    "# Histogram for numerical features\n",
    "plt.figure(1)\n",
    "df['Shots Per Game '].plot(kind='hist', title='Shots Per Game')\n",
    "plt.xlabel('Shots Per Game')\n",
    "plt.figure(2)\n",
    "df['Yellow Cards'].plot(kind='hist', title='Yellow Cards')\n",
    "plt.xlabel('Yellow Cards')\n",
    "plt.figure(3)\n",
    "df['Red Cards'].plot(kind='hist', title='Red Cards')\n",
    "plt.xlabel('Red Cards')\n",
    "plt.figure(4)\n",
    "df['Possession%'].plot(kind='hist', title='Possession Percentage')\n",
    "plt.xlabel('Possession Percentage')\n",
    "plt.figure(5)\n",
    "df['PassSuccess%'].plot(kind='hist', title='Pass Success Percentage')\n",
    "plt.xlabel('Pass Success Percentage')\n",
    "plt.figure(6)\n",
    "df['AerialsWon'].plot(kind='hist', title='Aerial Duels Won')\n",
    "plt.xlabel('Aerial Duels Won')"
   ]
  },
  {
   "cell_type": "markdown",
   "metadata": {
    "nbpresent": {
     "id": "093587e0-1ab0-4a77-9ee9-07d507127085"
    }
   },
   "source": [
    "The following code is the processing for NBA statistics from the 2007-2008 to 2015-2016 seasons."
   ]
  },
  {
   "cell_type": "code",
   "execution_count": 25,
   "metadata": {
    "collapsed": false,
    "nbpresent": {
     "id": "88b5774d-bae4-43cf-a261-6e16152ebd5c"
    }
   },
   "outputs": [
    {
     "name": "stdout",
     "output_type": "stream",
     "text": [
      "['Boston', 'Detroit', 'Orlando', 'Cleveland', 'Washington', 'Toronto', 'Philadelphia', 'Atlanta', 'L.A. Lakers', 'New Orleans', 'San Antonio', 'Utah', 'Houston', 'Phoenix', 'Dallas', 'Denver']\n"
     ]
    }
   ],
   "source": [
    "playoff_dictionary= {}\n",
    "f = open(\"NBAPlayoffs.txt\")\n",
    "for line in f:\n",
    "    data = line.split(\":\")\n",
    "    playoff_dictionary[int(data[0])] = data[1].strip().split(\",\")\n",
    "#Find which teams are in playoffs based on year.\n",
    "#Data file was manually made using data from NBA.com\n",
    "print(playoff_dictionary[2008])"
   ]
  },
  {
   "cell_type": "code",
   "execution_count": 26,
   "metadata": {
    "collapsed": true,
    "nbpresent": {
     "id": "72a5681f-a1d8-478e-bb7d-a7fefc7916e3"
    }
   },
   "outputs": [],
   "source": [
    "# NBA data in HTML tables; scrape and convert to CSV format\n",
    "# year is used to find if team made playoffs or not.\n",
    "def scrape_data_nba(url,year):\n",
    "    req = Request(url, headers={'User-Agent': 'Mozilla/5.0'}) # So we don't get 403 Error'ed\n",
    "    html = urlopen(req).read()\n",
    "    soup = BeautifulSoup(html, \"lxml\")\n",
    "    f = open(\"NBAData.csv\", 'a', newline='')\n",
    "    output = csv.writer(f,delimiter=',')\n",
    "    for table in soup.find('table'):\n",
    "        for row in table.find_all('tr'):\n",
    "            col = [x.getText() for x in row.find_all(re.compile('t[dh]'))]\n",
    "            if col[0] == \"#\":\n",
    "                col.append(\"Playoffs\")\n",
    "            elif col[1] in playoff_dictionary[year]:\n",
    "                col.append(\"Yes\")\n",
    "            else:\n",
    "                col.append(\"No\")\n",
    "            output.writerow(col)\n",
    "    f.close()"
   ]
  },
  {
   "cell_type": "code",
   "execution_count": 27,
   "metadata": {
    "collapsed": true,
    "nbpresent": {
     "id": "f82716e7-263e-49df-b675-653996c1debe"
    }
   },
   "outputs": [],
   "source": [
    "for i in range(2008,2017):#from 2007-08 season, upto 2016-2017 season exclusive(current season)\n",
    "    scrape_data_nba(\"http://basketball.realgm.com/nba/team_stats/\"+str(i)+\"/Averages/Team_Totals/Regular_Season/\",i)"
   ]
  },
  {
   "cell_type": "code",
   "execution_count": 28,
   "metadata": {
    "collapsed": true,
    "nbpresent": {
     "id": "03f8e533-a46f-4f8e-b102-cd96321b9e34"
    }
   },
   "outputs": [],
   "source": [
    "df = pd.read_csv(\"NBAData.csv\")"
   ]
  },
  {
   "cell_type": "code",
   "execution_count": 29,
   "metadata": {
    "collapsed": true,
    "nbpresent": {
     "id": "58d19d67-8774-4e2b-a740-6caadb24f51d"
    }
   },
   "outputs": [],
   "source": [
    "# Drop rows that repeat header\n",
    "df.drop(df.index[[30,61,92,123,154,185,216,247]], inplace=True)"
   ]
  },
  {
   "cell_type": "code",
   "execution_count": 30,
   "metadata": {
    "collapsed": false,
    "nbpresent": {
     "id": "a62997da-7e83-4fe1-86c1-bc871364886e"
    }
   },
   "outputs": [
    {
     "data": {
      "text/html": [
       "<div>\n",
       "<table border=\"1\" class=\"dataframe\">\n",
       "  <thead>\n",
       "    <tr style=\"text-align: right;\">\n",
       "      <th></th>\n",
       "      <th>#</th>\n",
       "      <th>Team</th>\n",
       "      <th>GP</th>\n",
       "      <th>MPG</th>\n",
       "      <th>FGM</th>\n",
       "      <th>FGA</th>\n",
       "      <th>FG%</th>\n",
       "      <th>3PM</th>\n",
       "      <th>3PA</th>\n",
       "      <th>3P%</th>\n",
       "      <th>...</th>\n",
       "      <th>TOV</th>\n",
       "      <th>PF</th>\n",
       "      <th>ORB</th>\n",
       "      <th>DRB</th>\n",
       "      <th>RPG</th>\n",
       "      <th>APG</th>\n",
       "      <th>SPG</th>\n",
       "      <th>BPG</th>\n",
       "      <th>PPG</th>\n",
       "      <th>Playoffs</th>\n",
       "    </tr>\n",
       "  </thead>\n",
       "  <tbody>\n",
       "    <tr>\n",
       "      <th>count</th>\n",
       "      <td>270</td>\n",
       "      <td>270</td>\n",
       "      <td>270</td>\n",
       "      <td>270</td>\n",
       "      <td>270</td>\n",
       "      <td>270</td>\n",
       "      <td>270</td>\n",
       "      <td>270</td>\n",
       "      <td>270</td>\n",
       "      <td>270</td>\n",
       "      <td>...</td>\n",
       "      <td>270</td>\n",
       "      <td>270</td>\n",
       "      <td>270</td>\n",
       "      <td>270</td>\n",
       "      <td>270</td>\n",
       "      <td>270</td>\n",
       "      <td>270</td>\n",
       "      <td>270</td>\n",
       "      <td>270</td>\n",
       "      <td>270</td>\n",
       "    </tr>\n",
       "    <tr>\n",
       "      <th>unique</th>\n",
       "      <td>30</td>\n",
       "      <td>32</td>\n",
       "      <td>3</td>\n",
       "      <td>11</td>\n",
       "      <td>66</td>\n",
       "      <td>98</td>\n",
       "      <td>69</td>\n",
       "      <td>71</td>\n",
       "      <td>132</td>\n",
       "      <td>79</td>\n",
       "      <td>...</td>\n",
       "      <td>49</td>\n",
       "      <td>63</td>\n",
       "      <td>56</td>\n",
       "      <td>68</td>\n",
       "      <td>75</td>\n",
       "      <td>73</td>\n",
       "      <td>43</td>\n",
       "      <td>35</td>\n",
       "      <td>134</td>\n",
       "      <td>2</td>\n",
       "    </tr>\n",
       "    <tr>\n",
       "      <th>top</th>\n",
       "      <td>12</td>\n",
       "      <td>Utah</td>\n",
       "      <td>82</td>\n",
       "      <td>48.4</td>\n",
       "      <td>38.1</td>\n",
       "      <td>81.7</td>\n",
       "      <td>.458</td>\n",
       "      <td>6.7</td>\n",
       "      <td>18.0</td>\n",
       "      <td>.346</td>\n",
       "      <td>...</td>\n",
       "      <td>14.0</td>\n",
       "      <td>20.0</td>\n",
       "      <td>11.1</td>\n",
       "      <td>31.9</td>\n",
       "      <td>41.7</td>\n",
       "      <td>21.0</td>\n",
       "      <td>7.0</td>\n",
       "      <td>4.8</td>\n",
       "      <td>97.3</td>\n",
       "      <td>Yes</td>\n",
       "    </tr>\n",
       "    <tr>\n",
       "      <th>freq</th>\n",
       "      <td>9</td>\n",
       "      <td>9</td>\n",
       "      <td>238</td>\n",
       "      <td>67</td>\n",
       "      <td>12</td>\n",
       "      <td>8</td>\n",
       "      <td>12</td>\n",
       "      <td>11</td>\n",
       "      <td>7</td>\n",
       "      <td>10</td>\n",
       "      <td>...</td>\n",
       "      <td>17</td>\n",
       "      <td>14</td>\n",
       "      <td>12</td>\n",
       "      <td>11</td>\n",
       "      <td>11</td>\n",
       "      <td>11</td>\n",
       "      <td>14</td>\n",
       "      <td>17</td>\n",
       "      <td>5</td>\n",
       "      <td>144</td>\n",
       "    </tr>\n",
       "  </tbody>\n",
       "</table>\n",
       "<p>4 rows × 23 columns</p>\n",
       "</div>"
      ],
      "text/plain": [
       "          #  Team   GP   MPG   FGM   FGA   FG%  3PM   3PA   3P%   ...     \\\n",
       "count   270   270  270   270   270   270   270  270   270   270   ...      \n",
       "unique   30    32    3    11    66    98    69   71   132    79   ...      \n",
       "top      12  Utah   82  48.4  38.1  81.7  .458  6.7  18.0  .346   ...      \n",
       "freq      9     9  238    67    12     8    12   11     7    10   ...      \n",
       "\n",
       "         TOV    PF   ORB   DRB   RPG   APG  SPG  BPG   PPG Playoffs  \n",
       "count    270   270   270   270   270   270  270  270   270      270  \n",
       "unique    49    63    56    68    75    73   43   35   134        2  \n",
       "top     14.0  20.0  11.1  31.9  41.7  21.0  7.0  4.8  97.3      Yes  \n",
       "freq      17    14    12    11    11    11   14   17     5      144  \n",
       "\n",
       "[4 rows x 23 columns]"
      ]
     },
     "execution_count": 30,
     "metadata": {},
     "output_type": "execute_result"
    }
   ],
   "source": [
    "df.describe()"
   ]
  },
  {
   "cell_type": "code",
   "execution_count": 31,
   "metadata": {
    "collapsed": true,
    "nbpresent": {
     "id": "e7a7704e-da71-4fc3-8d59-60d62354221f"
    }
   },
   "outputs": [],
   "source": [
    "pd.DataFrame.to_csv(df, \"NBAStats.csv\", index=False)\n",
    "# Drop columns that don't contribute to anything\n",
    "df.drop(['#'], inplace=True, axis=1)\n",
    "# Drop columns that are already described by other encompassing statistics\n",
    "df.drop([\"GP\", \"MPG\",\"FGA\",\"3PA\", \"FTA\",\"Team\"], inplace=True, axis=1)\n",
    "# GP, and MPG are uniform (or very very close to uniform), FGA,3PA, and FTA can be derived from other features. (Attempted/Made = %)"
   ]
  },
  {
   "cell_type": "code",
   "execution_count": 32,
   "metadata": {
    "collapsed": false,
    "nbpresent": {
     "id": "9a268c05-fbb5-499f-9e98-0e25cbb30e22"
    }
   },
   "outputs": [
    {
     "data": {
      "text/html": [
       "<div>\n",
       "<table border=\"1\" class=\"dataframe\">\n",
       "  <thead>\n",
       "    <tr style=\"text-align: right;\">\n",
       "      <th></th>\n",
       "      <th>FGM</th>\n",
       "      <th>FG%</th>\n",
       "      <th>3PM</th>\n",
       "      <th>3P%</th>\n",
       "      <th>FTM</th>\n",
       "      <th>FT%</th>\n",
       "      <th>TOV</th>\n",
       "      <th>PF</th>\n",
       "      <th>ORB</th>\n",
       "      <th>DRB</th>\n",
       "      <th>RPG</th>\n",
       "      <th>APG</th>\n",
       "      <th>SPG</th>\n",
       "      <th>BPG</th>\n",
       "      <th>PPG</th>\n",
       "      <th>Playoffs</th>\n",
       "    </tr>\n",
       "  </thead>\n",
       "  <tbody>\n",
       "    <tr>\n",
       "      <th>0</th>\n",
       "      <td>41.5</td>\n",
       "      <td>.459</td>\n",
       "      <td>9.3</td>\n",
       "      <td>.348</td>\n",
       "      <td>18.8</td>\n",
       "      <td>.752</td>\n",
       "      <td>13.2</td>\n",
       "      <td>22.9</td>\n",
       "      <td>12.7</td>\n",
       "      <td>30.4</td>\n",
       "      <td>43.2</td>\n",
       "      <td>22.4</td>\n",
       "      <td>9.1</td>\n",
       "      <td>4.6</td>\n",
       "      <td>111.0</td>\n",
       "      <td>No</td>\n",
       "    </tr>\n",
       "    <tr>\n",
       "      <th>1</th>\n",
       "      <td>40.3</td>\n",
       "      <td>.470</td>\n",
       "      <td>6.9</td>\n",
       "      <td>.355</td>\n",
       "      <td>23.1</td>\n",
       "      <td>.751</td>\n",
       "      <td>14.7</td>\n",
       "      <td>21.1</td>\n",
       "      <td>11.2</td>\n",
       "      <td>32.9</td>\n",
       "      <td>44.1</td>\n",
       "      <td>24.7</td>\n",
       "      <td>9.2</td>\n",
       "      <td>6.7</td>\n",
       "      <td>110.7</td>\n",
       "      <td>Yes</td>\n",
       "    </tr>\n",
       "    <tr>\n",
       "      <th>2</th>\n",
       "      <td>41.4</td>\n",
       "      <td>.500</td>\n",
       "      <td>8.5</td>\n",
       "      <td>.393</td>\n",
       "      <td>18.9</td>\n",
       "      <td>.783</td>\n",
       "      <td>14.4</td>\n",
       "      <td>19.9</td>\n",
       "      <td>8.8</td>\n",
       "      <td>32.7</td>\n",
       "      <td>41.5</td>\n",
       "      <td>26.7</td>\n",
       "      <td>6.5</td>\n",
       "      <td>6.3</td>\n",
       "      <td>110.1</td>\n",
       "      <td>Yes</td>\n",
       "    </tr>\n",
       "    <tr>\n",
       "      <th>3</th>\n",
       "      <td>39.6</td>\n",
       "      <td>.476</td>\n",
       "      <td>8.1</td>\n",
       "      <td>.378</td>\n",
       "      <td>21.3</td>\n",
       "      <td>.769</td>\n",
       "      <td>14.1</td>\n",
       "      <td>20.6</td>\n",
       "      <td>11.0</td>\n",
       "      <td>33.2</td>\n",
       "      <td>44.1</td>\n",
       "      <td>24.4</td>\n",
       "      <td>8.0</td>\n",
       "      <td>5.3</td>\n",
       "      <td>108.6</td>\n",
       "      <td>Yes</td>\n",
       "    </tr>\n",
       "    <tr>\n",
       "      <th>4</th>\n",
       "      <td>40.0</td>\n",
       "      <td>.497</td>\n",
       "      <td>5.0</td>\n",
       "      <td>.372</td>\n",
       "      <td>21.3</td>\n",
       "      <td>.759</td>\n",
       "      <td>14.6</td>\n",
       "      <td>24.0</td>\n",
       "      <td>11.5</td>\n",
       "      <td>29.4</td>\n",
       "      <td>40.9</td>\n",
       "      <td>26.4</td>\n",
       "      <td>8.7</td>\n",
       "      <td>4.3</td>\n",
       "      <td>106.2</td>\n",
       "      <td>Yes</td>\n",
       "    </tr>\n",
       "  </tbody>\n",
       "</table>\n",
       "</div>"
      ],
      "text/plain": [
       "    FGM   FG%  3PM   3P%   FTM   FT%   TOV    PF   ORB   DRB   RPG   APG  SPG  \\\n",
       "0  41.5  .459  9.3  .348  18.8  .752  13.2  22.9  12.7  30.4  43.2  22.4  9.1   \n",
       "1  40.3  .470  6.9  .355  23.1  .751  14.7  21.1  11.2  32.9  44.1  24.7  9.2   \n",
       "2  41.4  .500  8.5  .393  18.9  .783  14.4  19.9   8.8  32.7  41.5  26.7  6.5   \n",
       "3  39.6  .476  8.1  .378  21.3  .769  14.1  20.6  11.0  33.2  44.1  24.4  8.0   \n",
       "4  40.0  .497  5.0  .372  21.3  .759  14.6  24.0  11.5  29.4  40.9  26.4  8.7   \n",
       "\n",
       "   BPG    PPG Playoffs  \n",
       "0  4.6  111.0       No  \n",
       "1  6.7  110.7      Yes  \n",
       "2  6.3  110.1      Yes  \n",
       "3  5.3  108.6      Yes  \n",
       "4  4.3  106.2      Yes  "
      ]
     },
     "execution_count": 32,
     "metadata": {},
     "output_type": "execute_result"
    }
   ],
   "source": [
    "df.head()"
   ]
  },
  {
   "cell_type": "markdown",
   "metadata": {
    "nbpresent": {
     "id": "f0430c23-4347-4a1f-9560-a3743b9f3e14"
    }
   },
   "source": [
    "Rationale for Feature Selection:\n",
    "- Offensive Contributions\n",
    "    - FGM - Field Goals Made per Game: # of 2 and 3 pointers made by team in a game.\n",
    "    - FG% - Percentage of Field Goals made: Percentage of 2 and 3 pointers made\n",
    "    - 3PM - # of 3 pointers made per game\n",
    "    - 3P% - Percentage of 3 pointers made per game\n",
    "    - FTM - Free throws made per game\n",
    "    - FT% - Free throw percentage per game\n",
    "    - ORB - Offensive Rebounds per Game\n",
    "    - RB  - # of Rebounds per Game\n",
    "    - PPG - Points per game. Higher number means better offense.\n",
    "    - APG - Assists per Game\n",
    "- Defensive Contributions\n",
    "    - TOV - Turnovers: Loss of possession of ball. Higher number = worse defense\n",
    "    - PF  - Personal Fouls: Fouls made\n",
    "    - DRB - Defensive Rebounds per Game\n",
    "    - SPG - Steals per Game\n",
    "    - BPG - Blocks per Game\n",
    "    \n",
    "Playoffs - Target Variable- Either yes or no based on whether team made playoffs.\n",
    "\n",
    "The percentages give us normalized values (for 3P,FT,and FG). However, it's important to have the actual value as well, since a high percentage doesn't neccessarily translate to relatively high 3P,FT or FG."
   ]
  },
  {
   "cell_type": "code",
   "execution_count": 33,
   "metadata": {
    "collapsed": true,
    "nbpresent": {
     "id": "ff30e7c0-7e23-4362-972a-7cf2140d01f6"
    }
   },
   "outputs": [],
   "source": [
    "Y = df.pop(\"Playoffs\") # Just Target variable column\n",
    "df = df.apply(pd.to_numeric) # Left with numeric data after popping Playoffs Column"
   ]
  },
  {
   "cell_type": "code",
   "execution_count": 34,
   "metadata": {
    "collapsed": false,
    "nbpresent": {
     "id": "25e70733-03db-4cfa-bb7b-d01fdc116f12"
    }
   },
   "outputs": [
    {
     "data": {
      "text/plain": [
       "<matplotlib.axes._subplots.AxesSubplot at 0xcc40a58>"
      ]
     },
     "execution_count": 34,
     "metadata": {},
     "output_type": "execute_result"
    },
    {
     "data": {
      "image/png": "[encoded data removed]",
      "text/plain": [
       "<matplotlib.figure.Figure at 0xcc410f0>"
      ]
     },
     "metadata": {},
     "output_type": "display_data"
    }
   ],
   "source": [
    "Y.value_counts().plot(kind='bar',title=\"Histogram of Playoff Target Variable\")"
   ]
  },
  {
   "cell_type": "code",
   "execution_count": 35,
   "metadata": {
    "collapsed": false,
    "nbpresent": {
     "id": "69e49d0a-c1db-4ae0-9bf3-77789bdbd1a7"
    }
   },
   "outputs": [
    {
     "name": "stdout",
     "output_type": "stream",
     "text": [
      "(270, 15)\n"
     ]
    },
    {
     "data": {
      "text/html": [
       "<div>\n",
       "<table border=\"1\" class=\"dataframe\">\n",
       "  <thead>\n",
       "    <tr style=\"text-align: right;\">\n",
       "      <th></th>\n",
       "      <th>FGM</th>\n",
       "      <th>FG%</th>\n",
       "      <th>3PM</th>\n",
       "      <th>3P%</th>\n",
       "      <th>FTM</th>\n",
       "      <th>FT%</th>\n",
       "      <th>TOV</th>\n",
       "      <th>PF</th>\n",
       "      <th>ORB</th>\n",
       "      <th>DRB</th>\n",
       "      <th>RPG</th>\n",
       "      <th>APG</th>\n",
       "      <th>SPG</th>\n",
       "      <th>BPG</th>\n",
       "      <th>PPG</th>\n",
       "    </tr>\n",
       "  </thead>\n",
       "  <tbody>\n",
       "    <tr>\n",
       "      <th>count</th>\n",
       "      <td>270.000000</td>\n",
       "      <td>270.000000</td>\n",
       "      <td>270.000000</td>\n",
       "      <td>270.000000</td>\n",
       "      <td>270.000000</td>\n",
       "      <td>270.000000</td>\n",
       "      <td>270.000000</td>\n",
       "      <td>270.000000</td>\n",
       "      <td>270.000000</td>\n",
       "      <td>270.000000</td>\n",
       "      <td>270.000000</td>\n",
       "      <td>270.000000</td>\n",
       "      <td>270.000000</td>\n",
       "      <td>270.000000</td>\n",
       "      <td>270.000000</td>\n",
       "    </tr>\n",
       "    <tr>\n",
       "      <th>mean</th>\n",
       "      <td>37.375185</td>\n",
       "      <td>0.454781</td>\n",
       "      <td>7.087778</td>\n",
       "      <td>0.355570</td>\n",
       "      <td>17.933333</td>\n",
       "      <td>0.757907</td>\n",
       "      <td>14.351481</td>\n",
       "      <td>20.470741</td>\n",
       "      <td>10.984444</td>\n",
       "      <td>31.294815</td>\n",
       "      <td>42.276296</td>\n",
       "      <td>21.655556</td>\n",
       "      <td>7.536296</td>\n",
       "      <td>4.884815</td>\n",
       "      <td>99.772963</td>\n",
       "    </tr>\n",
       "    <tr>\n",
       "      <th>std</th>\n",
       "      <td>1.550565</td>\n",
       "      <td>0.015723</td>\n",
       "      <td>1.650357</td>\n",
       "      <td>0.019706</td>\n",
       "      <td>1.957884</td>\n",
       "      <td>0.029324</td>\n",
       "      <td>1.076851</td>\n",
       "      <td>1.421501</td>\n",
       "      <td>1.197759</td>\n",
       "      <td>1.707509</td>\n",
       "      <td>1.874847</td>\n",
       "      <td>1.755741</td>\n",
       "      <td>0.899410</td>\n",
       "      <td>0.757730</td>\n",
       "      <td>4.484816</td>\n",
       "    </tr>\n",
       "    <tr>\n",
       "      <th>min</th>\n",
       "      <td>33.200000</td>\n",
       "      <td>0.408000</td>\n",
       "      <td>3.700000</td>\n",
       "      <td>0.295000</td>\n",
       "      <td>12.200000</td>\n",
       "      <td>0.660000</td>\n",
       "      <td>11.200000</td>\n",
       "      <td>16.800000</td>\n",
       "      <td>7.600000</td>\n",
       "      <td>27.200000</td>\n",
       "      <td>36.900000</td>\n",
       "      <td>17.400000</td>\n",
       "      <td>5.500000</td>\n",
       "      <td>2.500000</td>\n",
       "      <td>87.000000</td>\n",
       "    </tr>\n",
       "    <tr>\n",
       "      <th>25%</th>\n",
       "      <td>36.400000</td>\n",
       "      <td>0.444000</td>\n",
       "      <td>6.000000</td>\n",
       "      <td>0.343000</td>\n",
       "      <td>16.500000</td>\n",
       "      <td>0.741250</td>\n",
       "      <td>13.700000</td>\n",
       "      <td>19.500000</td>\n",
       "      <td>10.300000</td>\n",
       "      <td>30.000000</td>\n",
       "      <td>41.000000</td>\n",
       "      <td>20.400000</td>\n",
       "      <td>7.000000</td>\n",
       "      <td>4.325000</td>\n",
       "      <td>96.700000</td>\n",
       "    </tr>\n",
       "    <tr>\n",
       "      <th>50%</th>\n",
       "      <td>37.300000</td>\n",
       "      <td>0.454000</td>\n",
       "      <td>6.900000</td>\n",
       "      <td>0.355000</td>\n",
       "      <td>17.700000</td>\n",
       "      <td>0.759000</td>\n",
       "      <td>14.450000</td>\n",
       "      <td>20.400000</td>\n",
       "      <td>11.000000</td>\n",
       "      <td>31.200000</td>\n",
       "      <td>42.100000</td>\n",
       "      <td>21.450000</td>\n",
       "      <td>7.500000</td>\n",
       "      <td>4.800000</td>\n",
       "      <td>99.200000</td>\n",
       "    </tr>\n",
       "    <tr>\n",
       "      <th>75%</th>\n",
       "      <td>38.300000</td>\n",
       "      <td>0.464000</td>\n",
       "      <td>8.100000</td>\n",
       "      <td>0.369000</td>\n",
       "      <td>19.100000</td>\n",
       "      <td>0.777000</td>\n",
       "      <td>15.000000</td>\n",
       "      <td>21.400000</td>\n",
       "      <td>11.800000</td>\n",
       "      <td>32.500000</td>\n",
       "      <td>43.500000</td>\n",
       "      <td>22.700000</td>\n",
       "      <td>8.175000</td>\n",
       "      <td>5.400000</td>\n",
       "      <td>102.700000</td>\n",
       "    </tr>\n",
       "    <tr>\n",
       "      <th>max</th>\n",
       "      <td>42.500000</td>\n",
       "      <td>0.504000</td>\n",
       "      <td>13.100000</td>\n",
       "      <td>0.416000</td>\n",
       "      <td>24.100000</td>\n",
       "      <td>0.828000</td>\n",
       "      <td>17.700000</td>\n",
       "      <td>24.200000</td>\n",
       "      <td>14.600000</td>\n",
       "      <td>36.200000</td>\n",
       "      <td>48.600000</td>\n",
       "      <td>28.900000</td>\n",
       "      <td>10.000000</td>\n",
       "      <td>8.200000</td>\n",
       "      <td>114.900000</td>\n",
       "    </tr>\n",
       "  </tbody>\n",
       "</table>\n",
       "</div>"
      ],
      "text/plain": [
       "              FGM         FG%         3PM         3P%         FTM         FT%  \\\n",
       "count  270.000000  270.000000  270.000000  270.000000  270.000000  270.000000   \n",
       "mean    37.375185    0.454781    7.087778    0.355570   17.933333    0.757907   \n",
       "std      1.550565    0.015723    1.650357    0.019706    1.957884    0.029324   \n",
       "min     33.200000    0.408000    3.700000    0.295000   12.200000    0.660000   \n",
       "25%     36.400000    0.444000    6.000000    0.343000   16.500000    0.741250   \n",
       "50%     37.300000    0.454000    6.900000    0.355000   17.700000    0.759000   \n",
       "75%     38.300000    0.464000    8.100000    0.369000   19.100000    0.777000   \n",
       "max     42.500000    0.504000   13.100000    0.416000   24.100000    0.828000   \n",
       "\n",
       "              TOV          PF         ORB         DRB         RPG         APG  \\\n",
       "count  270.000000  270.000000  270.000000  270.000000  270.000000  270.000000   \n",
       "mean    14.351481   20.470741   10.984444   31.294815   42.276296   21.655556   \n",
       "std      1.076851    1.421501    1.197759    1.707509    1.874847    1.755741   \n",
       "min     11.200000   16.800000    7.600000   27.200000   36.900000   17.400000   \n",
       "25%     13.700000   19.500000   10.300000   30.000000   41.000000   20.400000   \n",
       "50%     14.450000   20.400000   11.000000   31.200000   42.100000   21.450000   \n",
       "75%     15.000000   21.400000   11.800000   32.500000   43.500000   22.700000   \n",
       "max     17.700000   24.200000   14.600000   36.200000   48.600000   28.900000   \n",
       "\n",
       "              SPG         BPG         PPG  \n",
       "count  270.000000  270.000000  270.000000  \n",
       "mean     7.536296    4.884815   99.772963  \n",
       "std      0.899410    0.757730    4.484816  \n",
       "min      5.500000    2.500000   87.000000  \n",
       "25%      7.000000    4.325000   96.700000  \n",
       "50%      7.500000    4.800000   99.200000  \n",
       "75%      8.175000    5.400000  102.700000  \n",
       "max     10.000000    8.200000  114.900000  "
      ]
     },
     "execution_count": 35,
     "metadata": {},
     "output_type": "execute_result"
    }
   ],
   "source": [
    "print(df.shape) # Data shape\n",
    "df.describe() # Statistics for the other features"
   ]
  },
  {
   "cell_type": "code",
   "execution_count": 36,
   "metadata": {
    "collapsed": false,
    "nbpresent": {
     "id": "78d62cdc-7871-4384-80e6-8b781a746125"
    }
   },
   "outputs": [
    {
     "data": {
      "text/plain": [
       "<matplotlib.text.Text at 0xc9744e0>"
      ]
     },
     "execution_count": 36,
     "metadata": {},
     "output_type": "execute_result"
    },
    {
     "data": {
      "image/png": "[encoded data removed]",
      "text/plain": [
       "<matplotlib.figure.Figure at 0x93b8208>"
      ]
     },
     "metadata": {},
     "output_type": "display_data"
    },
    {
     "data": {
      "image/png": "[encoded data removed]",
      "text/plain": [
       "<matplotlib.figure.Figure at 0x954ae80>"
      ]
     },
     "metadata": {},
     "output_type": "display_data"
    },
    {
     "data": {
      "image/png": "[encoded data removed]",
      "text/plain": [
       "<matplotlib.figure.Figure at 0xabbfef0>"
      ]
     },
     "metadata": {},
     "output_type": "display_data"
    },
    {
     "data": {
      "image/png": "[encoded data removed]",
      "text/plain": [
       "<matplotlib.figure.Figure at 0x962b4a8>"
      ]
     },
     "metadata": {},
     "output_type": "display_data"
    },
    {
     "data": {
      "image/png": "[encoded data removed]",
      "text/plain": [
       "<matplotlib.figure.Figure at 0x95594e0>"
      ]
     },
     "metadata": {},
     "output_type": "display_data"
    },
    {
     "data": {
      "image/png": "[encoded data removed]",
      "text/plain": [
       "<matplotlib.figure.Figure at 0xcb98be0>"
      ]
     },
     "metadata": {},
     "output_type": "display_data"
    },
    {
     "data": {
      "image/png": "[encoded data removed]",
      "text/plain": [
       "<matplotlib.figure.Figure at 0xcb98588>"
      ]
     },
     "metadata": {},
     "output_type": "display_data"
    },
    {
     "data": {
      "image/png": "[encoded data removed]",
      "text/plain": [
       "<matplotlib.figure.Figure at 0xac4e1d0>"
      ]
     },
     "metadata": {},
     "output_type": "display_data"
    },
    {
     "data": {
      "image/png": "[encoded data removed]",
      "text/plain": [
       "<matplotlib.figure.Figure at 0x944ef60>"
      ]
     },
     "metadata": {},
     "output_type": "display_data"
    },
    {
     "data": {
      "image/png": "[encoded data removed]",
      "text/plain": [
       "<matplotlib.figure.Figure at 0xca5b4e0>"
      ]
     },
     "metadata": {},
     "output_type": "display_data"
    },
    {
     "data": {
      "image/png": "[encoded data removed]",
      "text/plain": [
       "<matplotlib.figure.Figure at 0xa882f28>"
      ]
     },
     "metadata": {},
     "output_type": "display_data"
    },
    {
     "data": {
      "image/png": "[encoded data removed]",
      "text/plain": [
       "<matplotlib.figure.Figure at 0x9590fd0>"
      ]
     },
     "metadata": {},
     "output_type": "display_data"
    },
    {
     "data": {
      "image/png": "[encoded data removed]",
      "text/plain": [
       "<matplotlib.figure.Figure at 0x9590898>"
      ]
     },
     "metadata": {},
     "output_type": "display_data"
    },
    {
     "data": {
      "image/png": "[encoded data removed]",
      "text/plain": [
       "<matplotlib.figure.Figure at 0xca00e80>"
      ]
     },
     "metadata": {},
     "output_type": "display_data"
    },
    {
     "data": {
      "image/png": "[encoded data removed]",
      "text/plain": [
       "<matplotlib.figure.Figure at 0xc9c48d0>"
      ]
     },
     "metadata": {},
     "output_type": "display_data"
    }
   ],
   "source": [
    "# Histograms for numerical features\n",
    "% matplotlib inline\n",
    "plt.figure(1)\n",
    "df['FGM'].plot(kind='hist', title =\"Histogram of Field Goals Made Per Game\")\n",
    "plt.xlabel(\"FGM\")\n",
    "plt.figure(2)\n",
    "df['FG%'].plot(kind='hist', title= \"Histogram of Field Goal%\")\n",
    "plt.xlabel(\"FG%\")\n",
    "plt.figure(3)\n",
    "df['3PM'].plot(kind='hist', title=\"Histogram of 3 Pointers Made Per Game\")\n",
    "plt.xlabel(\"3PM\")\n",
    "plt.figure(4)\n",
    "df['3P%'].plot(kind='hist', title=\"Histogram of 3 Pointer %\")\n",
    "plt.xlabel(\"3P%\")\n",
    "plt.figure(5)\n",
    "df['FTM'].plot(kind='hist', title=\"Histogram of Free Throws Made Per Game\")\n",
    "plt.xlabel(\"FTM\")\n",
    "plt.figure(6)\n",
    "df['FT%'].plot(kind='hist', title=\"Histogram of Free Throw %\")\n",
    "plt.xlabel(\"FT%\")\n",
    "plt.figure(7)\n",
    "df['TOV'].plot(kind='hist', title=\"Histogram of Turnovers Per Game\")\n",
    "plt.xlabel(\"TOV\")\n",
    "plt.figure(8)\n",
    "df['PF'].plot(kind='hist',title=\"Histogram of Personal Fouls Per Game\")\n",
    "plt.xlabel(\"PF\")\n",
    "plt.figure(9)\n",
    "df['ORB'].plot(kind='hist',title=\"Histogram of Offensive Rebounds Per Game\")\n",
    "plt.xlabel(\"ORB\")\n",
    "plt.figure(10)\n",
    "df['DRB'].plot(kind='hist',title=\"Histogram of Defensive Rebounds Per Game\")\n",
    "plt.xlabel(\"DRB\")\n",
    "plt.figure(11)\n",
    "df['RPG'].plot(kind='hist', title=\"Histogram of Total Rebounds Per Game\")\n",
    "plt.xlabel(\"RPG\")\n",
    "plt.figure(12)\n",
    "df['APG'].plot(kind='hist', title=\"Histogram of Assists Per Game\")\n",
    "plt.xlabel(\"APG\")\n",
    "plt.figure(13)\n",
    "df['SPG'].plot(kind='hist', title=\"Histogram of Steals Per Game\")\n",
    "plt.xlabel(\"SPG\")\n",
    "plt.figure(14)\n",
    "df['BPG'].plot(kind='hist', title=\"Histogram of Blocks Per Game\")\n",
    "plt.xlabel(\"BPG\")\n",
    "plt.figure(15)\n",
    "df['PPG'].plot(kind='hist', title=\"Histogram of Points Per Game\")\n",
    "plt.xlabel(\"PPG\")"
   ]
  }
 ],
 "metadata": {
  "anaconda-cloud": {},
  "kernelspec": {
   "display_name": "Python [Root]",
   "language": "python",
   "name": "Python [Root]"
  },
  "language_info": {
   "codemirror_mode": {
    "name": "ipython",
    "version": 3
   },
   "file_extension": ".py",
   "mimetype": "text/x-python",
   "name": "python",
   "nbconvert_exporter": "python",
   "pygments_lexer": "ipython3",
   "version": "3.5.3"
  },
  "nbpresent": {
   "slides": {
    "0a18e1f7-8d30-46f4-b334-917215458b91": {
     "id": "0a18e1f7-8d30-46f4-b334-917215458b91",
     "prev": "568aac08-1436-4829-b04e-a79e1dd03694",
     "regions": {
      "26d30fa2-d27e-4e69-82e7-4230ee907347": {
       "attrs": {
        "height": 0.8,
        "width": 0.8,
        "x": 0.1,
        "y": 0.1
       },
       "content": {
        "cell": "58d19d67-8774-4e2b-a740-6caadb24f51d",
        "part": "whole"
       },
       "id": "26d30fa2-d27e-4e69-82e7-4230ee907347"
      }
     }
    },
    "1954f0aa-32d7-44e4-8eeb-aced48e432be": {
     "id": "1954f0aa-32d7-44e4-8eeb-aced48e432be",
     "prev": "e2f42c46-3477-4793-a071-bc914b667f57",
     "regions": {
      "286fcf39-ca87-44f8-9cc0-03f9de6c71b5": {
       "attrs": {
        "height": 0.8,
        "width": 0.8,
        "x": 0.1,
        "y": 0.1
       },
       "content": {
        "cell": "2831e487-1913-4e18-9af6-f651966d39a9",
        "part": "whole"
       },
       "id": "286fcf39-ca87-44f8-9cc0-03f9de6c71b5"
      }
     }
    },
    "1a2a2a4b-bdd9-40e7-b829-4ca05c7f9230": {
     "id": "1a2a2a4b-bdd9-40e7-b829-4ca05c7f9230",
     "prev": "93c2809e-6a9e-4033-aa19-562cee5c708c",
     "regions": {
      "e2c4be45-f7d6-47ed-8c0c-a785e19775e1": {
       "attrs": {
        "height": 0.8,
        "width": 0.8,
        "x": 0.1,
        "y": 0.1
       },
       "content": {
        "cell": "0dbbaa96-59f2-426a-894b-c9c753ca1200",
        "part": "whole"
       },
       "id": "e2c4be45-f7d6-47ed-8c0c-a785e19775e1"
      }
     }
    },
    "251e9a72-6227-4bd6-906e-2be172727fb1": {
     "id": "251e9a72-6227-4bd6-906e-2be172727fb1",
     "prev": "d040db24-7af9-41b6-bcda-350168152cc4",
     "regions": {
      "4404d5db-36ab-418a-952e-7a5ad7ff0405": {
       "attrs": {
        "height": 0.8,
        "width": 0.8,
        "x": 0.1,
        "y": 0.1
       },
       "content": {
        "cell": "e7a7704e-da71-4fc3-8d59-60d62354221f",
        "part": "whole"
       },
       "id": "4404d5db-36ab-418a-952e-7a5ad7ff0405"
      }
     }
    },
    "2f0f6213-c185-4a60-9375-f54d5801d328": {
     "id": "2f0f6213-c185-4a60-9375-f54d5801d328",
     "prev": "251e9a72-6227-4bd6-906e-2be172727fb1",
     "regions": {
      "652d0256-7507-4122-97fd-037f3f922092": {
       "attrs": {
        "height": 0.8,
        "width": 0.8,
        "x": 0.1,
        "y": 0.1
       },
       "content": {
        "cell": "9a268c05-fbb5-499f-9e98-0e25cbb30e22",
        "part": "whole"
       },
       "id": "652d0256-7507-4122-97fd-037f3f922092"
      }
     }
    },
    "336dab75-05dd-47ad-9195-abf3656f9b21": {
     "id": "336dab75-05dd-47ad-9195-abf3656f9b21",
     "prev": "a91baf4a-d041-49ce-9ec8-59b096f9209d",
     "regions": {
      "5f7f5f45-d01e-4d78-8be4-df5f04c23ac5": {
       "attrs": {
        "height": 0.8,
        "width": 0.8,
        "x": 0.1,
        "y": 0.1
       },
       "content": {
        "cell": "69446d0b-6694-4300-aaf5-afc52c5a3570",
        "part": "whole"
       },
       "id": "5f7f5f45-d01e-4d78-8be4-df5f04c23ac5"
      }
     }
    },
    "361207e2-da53-4f46-8d79-25b43e56aba7": {
     "id": "361207e2-da53-4f46-8d79-25b43e56aba7",
     "prev": "ab0bd4cd-bfda-415e-90c3-4dd2a71cf668",
     "regions": {
      "97fd46cc-6c67-44bc-8427-969a003cd61f": {
       "attrs": {
        "height": 0.8,
        "width": 0.8,
        "x": 0.1,
        "y": 0.1
       },
       "content": {
        "cell": "406ffadd-d24f-4bf8-9091-95f5220d6b34",
        "part": "whole"
       },
       "id": "97fd46cc-6c67-44bc-8427-969a003cd61f"
      }
     }
    },
    "3c49b94e-8804-4afe-a0b6-66b401673e4d": {
     "id": "3c49b94e-8804-4afe-a0b6-66b401673e4d",
     "prev": "dee462b9-2414-4e3d-8691-6f174986b526",
     "regions": {
      "20823688-3725-4de6-a835-e8e3859f8590": {
       "attrs": {
        "height": 0.8,
        "width": 0.8,
        "x": 0.1,
        "y": 0.1
       },
       "content": {
        "cell": "eb56e406-988d-43b2-aaa3-df86c90a5833",
        "part": "whole"
       },
       "id": "20823688-3725-4de6-a835-e8e3859f8590"
      }
     }
    },
    "3cb80bbb-3253-45b1-8a22-79894e086c5b": {
     "id": "3cb80bbb-3253-45b1-8a22-79894e086c5b",
     "prev": "f15cb19d-6a9f-4e36-9761-03240aaafd4d",
     "regions": {
      "0fbe77ef-ee6c-4278-89e2-56b11234b7b1": {
       "attrs": {
        "height": 0.8,
        "width": 0.8,
        "x": 0.1,
        "y": 0.1
       },
       "content": {
        "cell": "25e70733-03db-4cfa-bb7b-d01fdc116f12",
        "part": "whole"
       },
       "id": "0fbe77ef-ee6c-4278-89e2-56b11234b7b1"
      }
     }
    },
    "3fcc8449-673c-462e-9709-34026429189a": {
     "id": "3fcc8449-673c-462e-9709-34026429189a",
     "prev": "eab56274-f7d6-4eee-a690-31d0ef546e6e",
     "regions": {
      "bcb6d4aa-6779-433a-bf27-89d0ffed3320": {
       "attrs": {
        "height": 0.8,
        "width": 0.8,
        "x": 0.1,
        "y": 0.1
       },
       "content": {
        "cell": "06886db9-56c6-4b21-b220-1a329ff09571",
        "part": "whole"
       },
       "id": "bcb6d4aa-6779-433a-bf27-89d0ffed3320"
      }
     }
    },
    "46899c31-1d7d-40c5-aa4b-3463dc9e5716": {
     "id": "46899c31-1d7d-40c5-aa4b-3463dc9e5716",
     "prev": "86936476-8cbb-4d3d-92eb-1ffb78e89721",
     "regions": {
      "786aac6e-31ec-4567-957a-12ccb86f0ebf": {
       "attrs": {
        "height": 0.8,
        "width": 0.8,
        "x": 0.1,
        "y": 0.1
       },
       "content": {
        "cell": "3d8cb157-7ebf-43ba-9598-c37b1979d152",
        "part": "whole"
       },
       "id": "786aac6e-31ec-4567-957a-12ccb86f0ebf"
      }
     }
    },
    "4920edf3-6bf9-4a0e-92c7-cbe2b50d0286": {
     "id": "4920edf3-6bf9-4a0e-92c7-cbe2b50d0286",
     "prev": "59518e19-5c8f-4b80-8bf5-872c3f01121a",
     "regions": {
      "ac86cea2-79dc-4abb-a016-d30dca138330": {
       "attrs": {
        "height": 0.8,
        "width": 0.8,
        "x": 0.1,
        "y": 0.1
       },
       "content": {
        "cell": "f82716e7-263e-49df-b675-653996c1debe",
        "part": "whole"
       },
       "id": "ac86cea2-79dc-4abb-a016-d30dca138330"
      }
     }
    },
    "4a1748e4-e130-4516-8e21-c9d030d60e87": {
     "id": "4a1748e4-e130-4516-8e21-c9d030d60e87",
     "prev": "3fcc8449-673c-462e-9709-34026429189a",
     "regions": {
      "fab48e46-3365-4a32-904f-bffd62e9346d": {
       "attrs": {
        "height": 0.8,
        "width": 0.8,
        "x": 0.1,
        "y": 0.1
       },
       "content": {
        "cell": "4da9ce2e-f616-4cb7-b54c-ed4b99aada09",
        "part": "whole"
       },
       "id": "fab48e46-3365-4a32-904f-bffd62e9346d"
      }
     }
    },
    "568aac08-1436-4829-b04e-a79e1dd03694": {
     "id": "568aac08-1436-4829-b04e-a79e1dd03694",
     "prev": "4920edf3-6bf9-4a0e-92c7-cbe2b50d0286",
     "regions": {
      "e7c1a040-7f74-4617-892d-a38079cf4363": {
       "attrs": {
        "height": 0.8,
        "width": 0.8,
        "x": 0.1,
        "y": 0.1
       },
       "content": {
        "cell": "03f8e533-a46f-4f8e-b102-cd96321b9e34",
        "part": "whole"
       },
       "id": "e7c1a040-7f74-4617-892d-a38079cf4363"
      }
     }
    },
    "59518e19-5c8f-4b80-8bf5-872c3f01121a": {
     "id": "59518e19-5c8f-4b80-8bf5-872c3f01121a",
     "prev": "9647dea4-925e-422c-8dc1-1e9628028592",
     "regions": {
      "8ef4a321-5506-45b9-8c2b-48cd0289022b": {
       "attrs": {
        "height": 0.8,
        "width": 0.8,
        "x": 0.1,
        "y": 0.1
       },
       "content": {
        "cell": "72a5681f-a1d8-478e-bb7d-a7fefc7916e3",
        "part": "whole"
       },
       "id": "8ef4a321-5506-45b9-8c2b-48cd0289022b"
      }
     }
    },
    "5d35f39e-880f-427f-8829-99acabf2ac43": {
     "id": "5d35f39e-880f-427f-8829-99acabf2ac43",
     "prev": "a3be44f2-bce3-4830-a760-030cfc5237e2",
     "regions": {
      "e4200904-1571-4c83-aadb-f91c760081a9": {
       "attrs": {
        "height": 0.8,
        "width": 0.8,
        "x": 0.1,
        "y": 0.1
       },
       "content": {
        "cell": "4e69cd29-af42-4a81-be1b-515240fcf797",
        "part": "whole"
       },
       "id": "e4200904-1571-4c83-aadb-f91c760081a9"
      }
     }
    },
    "69ba08e3-9370-4787-ad7c-c097ff7e3fd6": {
     "id": "69ba08e3-9370-4787-ad7c-c097ff7e3fd6",
     "prev": "3cb80bbb-3253-45b1-8a22-79894e086c5b",
     "regions": {
      "22e46b70-792d-4f4e-8a4f-c44b27589add": {
       "attrs": {
        "height": 0.8,
        "width": 0.8,
        "x": 0.1,
        "y": 0.1
       },
       "content": {
        "cell": "69e49d0a-c1db-4ae0-9bf3-77789bdbd1a7",
        "part": "whole"
       },
       "id": "22e46b70-792d-4f4e-8a4f-c44b27589add"
      }
     }
    },
    "6e7dc673-b46e-479e-8865-afa8a23f9748": {
     "id": "6e7dc673-b46e-479e-8865-afa8a23f9748",
     "prev": "4a1748e4-e130-4516-8e21-c9d030d60e87",
     "regions": {
      "29b001ea-3ded-4036-bd50-a838d6e7fce0": {
       "attrs": {
        "height": 0.8,
        "width": 0.8,
        "x": 0.1,
        "y": 0.1
       },
       "content": {
        "cell": "1980a55a-3e7b-4610-b94a-65169d811846",
        "part": "whole"
       },
       "id": "29b001ea-3ded-4036-bd50-a838d6e7fce0"
      }
     }
    },
    "6f12d3d6-a9ee-4e48-adc7-f2d93d95abb7": {
     "id": "6f12d3d6-a9ee-4e48-adc7-f2d93d95abb7",
     "prev": "361207e2-da53-4f46-8d79-25b43e56aba7",
     "regions": {
      "c6a8b532-a324-46ad-8b9b-fd957062d28c": {
       "attrs": {
        "height": 0.8,
        "width": 0.8,
        "x": 0.1,
        "y": 0.1
       },
       "content": {
        "cell": "38948d4e-5dfc-4900-9daa-e37d71851ed3",
        "part": "whole"
       },
       "id": "c6a8b532-a324-46ad-8b9b-fd957062d28c"
      }
     }
    },
    "78637f1e-e8f1-45c6-8cfd-4d61e81e8a6a": {
     "id": "78637f1e-e8f1-45c6-8cfd-4d61e81e8a6a",
     "prev": "6f12d3d6-a9ee-4e48-adc7-f2d93d95abb7",
     "regions": {
      "acfdb0f5-3504-4656-999c-c48c7d050fce": {
       "attrs": {
        "height": 0.8,
        "width": 0.8,
        "x": 0.1,
        "y": 0.1
       },
       "content": {
        "cell": "093587e0-1ab0-4a77-9ee9-07d507127085",
        "part": "whole"
       },
       "id": "acfdb0f5-3504-4656-999c-c48c7d050fce"
      }
     }
    },
    "79c11b70-e12d-4c2e-b9c4-b9f55e78269d": {
     "id": "79c11b70-e12d-4c2e-b9c4-b9f55e78269d",
     "prev": "c3f8144f-fb9a-44b1-944c-e12ad3b6794e",
     "regions": {
      "d7b8bfd5-ca9b-4ce5-a72a-0152383c30f2": {
       "attrs": {
        "height": 0.8,
        "width": 0.8,
        "x": 0.1,
        "y": 0.1
       },
       "content": {
        "cell": "a65058f0-0d7c-4844-9fcd-70b9120ff727",
        "part": "whole"
       },
       "id": "d7b8bfd5-ca9b-4ce5-a72a-0152383c30f2"
      }
     }
    },
    "7b8f031e-40f7-4144-aa6a-865c2ee6c9df": {
     "id": "7b8f031e-40f7-4144-aa6a-865c2ee6c9df",
     "prev": "dc0c2126-e818-423c-ba72-12172d7e36c2",
     "regions": {
      "0d9eac23-06cf-4009-ac25-fd0172063930": {
       "attrs": {
        "height": 0.8,
        "width": 0.8,
        "x": 0.1,
        "y": 0.1
       },
       "content": {
        "cell": "09e35267-94eb-4954-ab22-8b9b4d624559",
        "part": "whole"
       },
       "id": "0d9eac23-06cf-4009-ac25-fd0172063930"
      }
     }
    },
    "7ca98745-5fed-4bc4-868d-445fdbfc52bc": {
     "id": "7ca98745-5fed-4bc4-868d-445fdbfc52bc",
     "prev": "1954f0aa-32d7-44e4-8eeb-aced48e432be",
     "regions": {
      "53eb3827-b6c3-4622-a996-01cb3fc2ec49": {
       "attrs": {
        "height": 0.8,
        "width": 0.8,
        "x": 0.1,
        "y": 0.1
       },
       "content": {
        "cell": "de888bcd-58db-4a1e-8f8d-2a75a6862929",
        "part": "whole"
       },
       "id": "53eb3827-b6c3-4622-a996-01cb3fc2ec49"
      }
     }
    },
    "86936476-8cbb-4d3d-92eb-1ffb78e89721": {
     "id": "86936476-8cbb-4d3d-92eb-1ffb78e89721",
     "prev": "7ca98745-5fed-4bc4-868d-445fdbfc52bc",
     "regions": {
      "51c2ec4c-0401-4d53-9883-ebdf27a4701d": {
       "attrs": {
        "height": 0.8,
        "width": 0.8,
        "x": 0.1,
        "y": 0.1
       },
       "content": {
        "cell": "6a24a172-460b-461c-8c26-7e4a6c19a165",
        "part": "whole"
       },
       "id": "51c2ec4c-0401-4d53-9883-ebdf27a4701d"
      }
     }
    },
    "8862d0c5-6b2e-4a1f-a943-9e6accfec8a8": {
     "id": "8862d0c5-6b2e-4a1f-a943-9e6accfec8a8",
     "prev": "336dab75-05dd-47ad-9195-abf3656f9b21",
     "regions": {
      "d3c50385-411d-40a9-9722-411d07ea707a": {
       "attrs": {
        "height": 0.8,
        "width": 0.8,
        "x": 0.1,
        "y": 0.1
       },
       "content": {
        "cell": "50367b4a-d169-4b19-9f9d-5e5fd28b3004",
        "part": "whole"
       },
       "id": "d3c50385-411d-40a9-9722-411d07ea707a"
      }
     }
    },
    "90be246c-bde3-4d2c-9bd2-abfbd543140b": {
     "id": "90be246c-bde3-4d2c-9bd2-abfbd543140b",
     "prev": "69ba08e3-9370-4787-ad7c-c097ff7e3fd6",
     "regions": {
      "a8dda292-2364-461a-a81c-e2bbadb28a3e": {
       "attrs": {
        "height": 0.8,
        "width": 0.8,
        "x": 0.1,
        "y": 0.1
       },
       "content": {
        "cell": "78d62cdc-7871-4384-80e6-8b781a746125",
        "part": "whole"
       },
       "id": "a8dda292-2364-461a-a81c-e2bbadb28a3e"
      }
     }
    },
    "91b4fb55-48b7-4aba-a72a-213ff1a433f5": {
     "id": "91b4fb55-48b7-4aba-a72a-213ff1a433f5",
     "prev": "79c11b70-e12d-4c2e-b9c4-b9f55e78269d",
     "regions": {
      "2cd96286-ffef-45dc-ace3-cf281c016fc9": {
       "attrs": {
        "height": 0.8,
        "width": 0.8,
        "x": 0.1,
        "y": 0.1
       },
       "content": {
        "cell": "1c3c2d81-dad4-4736-896b-a7291980c87b",
        "part": "whole"
       },
       "id": "2cd96286-ffef-45dc-ace3-cf281c016fc9"
      }
     }
    },
    "93c2809e-6a9e-4033-aa19-562cee5c708c": {
     "id": "93c2809e-6a9e-4033-aa19-562cee5c708c",
     "prev": "bc0c1913-b63b-4e34-a6d2-01acd7e1d70d",
     "regions": {
      "4bdf18b3-e701-4f70-9388-849e1d9580c4": {
       "attrs": {
        "height": 0.8,
        "width": 0.8,
        "x": 0.1,
        "y": 0.1
       },
       "content": {
        "cell": "100f4c16-65cc-4d05-8e6e-e402ce9f2984",
        "part": "whole"
       },
       "id": "4bdf18b3-e701-4f70-9388-849e1d9580c4"
      }
     }
    },
    "9647dea4-925e-422c-8dc1-1e9628028592": {
     "id": "9647dea4-925e-422c-8dc1-1e9628028592",
     "prev": "78637f1e-e8f1-45c6-8cfd-4d61e81e8a6a",
     "regions": {
      "5c70557b-a4be-4c0e-a5d1-d4b7ce8fdb1f": {
       "attrs": {
        "height": 0.8,
        "width": 0.8,
        "x": 0.1,
        "y": 0.1
       },
       "content": {
        "cell": "88b5774d-bae4-43cf-a261-6e16152ebd5c",
        "part": "whole"
       },
       "id": "5c70557b-a4be-4c0e-a5d1-d4b7ce8fdb1f"
      }
     }
    },
    "96ea278e-00ea-4615-8e50-53164b2850a9": {
     "id": "96ea278e-00ea-4615-8e50-53164b2850a9",
     "prev": "5d35f39e-880f-427f-8829-99acabf2ac43",
     "regions": {
      "6847c589-716b-490e-82f9-4e5c9f9c2e61": {
       "attrs": {
        "height": 0.8,
        "width": 0.8,
        "x": 0.1,
        "y": 0.1
       },
       "content": {
        "cell": "d90785dc-08b2-4f58-b917-d251d2722057",
        "part": "whole"
       },
       "id": "6847c589-716b-490e-82f9-4e5c9f9c2e61"
      }
     }
    },
    "a3be44f2-bce3-4830-a760-030cfc5237e2": {
     "id": "a3be44f2-bce3-4830-a760-030cfc5237e2",
     "prev": null,
     "regions": {
      "7a158c7f-10fc-4984-b45c-eea1f6a39d44": {
       "attrs": {
        "height": 0.8,
        "width": 0.8,
        "x": 0.1,
        "y": 0.1
       },
       "content": {
        "cell": "89144afc-8497-4e21-b559-0272e661f6f5",
        "part": "whole"
       },
       "id": "7a158c7f-10fc-4984-b45c-eea1f6a39d44"
      }
     }
    },
    "a673d728-eef2-4bf2-8b88-acef1109d779": {
     "id": "a673d728-eef2-4bf2-8b88-acef1109d779",
     "prev": "2f0f6213-c185-4a60-9375-f54d5801d328",
     "regions": {
      "01319eba-de62-4d27-bd8d-9fcfea9323eb": {
       "attrs": {
        "height": 0.8,
        "width": 0.8,
        "x": 0.1,
        "y": 0.1
       },
       "content": {
        "cell": "f0430c23-4347-4a1f-9560-a3743b9f3e14",
        "part": "whole"
       },
       "id": "01319eba-de62-4d27-bd8d-9fcfea9323eb"
      }
     }
    },
    "a91baf4a-d041-49ce-9ec8-59b096f9209d": {
     "id": "a91baf4a-d041-49ce-9ec8-59b096f9209d",
     "prev": "6e7dc673-b46e-479e-8865-afa8a23f9748",
     "regions": {
      "cc0f5419-d85f-42a5-9be8-5a4c107c6861": {
       "attrs": {
        "height": 0.8,
        "width": 0.8,
        "x": 0.1,
        "y": 0.1
       },
       "content": {
        "cell": "bbf4cb51-b604-47b5-a0a8-b2cde68f81e6",
        "part": "whole"
       },
       "id": "cc0f5419-d85f-42a5-9be8-5a4c107c6861"
      }
     }
    },
    "ab0bd4cd-bfda-415e-90c3-4dd2a71cf668": {
     "id": "ab0bd4cd-bfda-415e-90c3-4dd2a71cf668",
     "prev": "8862d0c5-6b2e-4a1f-a943-9e6accfec8a8",
     "regions": {
      "86da363d-3ed5-4d5a-9b93-d61653d4959a": {
       "attrs": {
        "height": 0.8,
        "width": 0.8,
        "x": 0.1,
        "y": 0.1
       },
       "content": {
        "cell": "0736769a-8eda-467b-8212-bb95566bdcf8",
        "part": "whole"
       },
       "id": "86da363d-3ed5-4d5a-9b93-d61653d4959a"
      }
     }
    },
    "ae13154b-693e-4222-80f6-11c73e8264e8": {
     "id": "ae13154b-693e-4222-80f6-11c73e8264e8",
     "prev": "1a2a2a4b-bdd9-40e7-b829-4ca05c7f9230",
     "regions": {
      "853450e1-c698-4df5-b740-22ee40871fba": {
       "attrs": {
        "height": 0.8,
        "width": 0.8,
        "x": 0.1,
        "y": 0.1
       },
       "content": {
        "cell": "fddce997-a373-40f1-a1b5-ebf7bb96cb59",
        "part": "whole"
       },
       "id": "853450e1-c698-4df5-b740-22ee40871fba"
      }
     }
    },
    "bc0c1913-b63b-4e34-a6d2-01acd7e1d70d": {
     "id": "bc0c1913-b63b-4e34-a6d2-01acd7e1d70d",
     "prev": "3c49b94e-8804-4afe-a0b6-66b401673e4d",
     "regions": {
      "5ff8ec04-78b6-4e9c-b4da-3da4d6048832": {
       "attrs": {
        "height": 0.8,
        "width": 0.8,
        "x": 0.1,
        "y": 0.1
       },
       "content": {
        "cell": "82b932df-8e55-47c3-83d2-0d075fcf3148",
        "part": "whole"
       },
       "id": "5ff8ec04-78b6-4e9c-b4da-3da4d6048832"
      }
     }
    },
    "c3f8144f-fb9a-44b1-944c-e12ad3b6794e": {
     "id": "c3f8144f-fb9a-44b1-944c-e12ad3b6794e",
     "prev": "f16cc87d-3aeb-42ce-a59c-b37df8fedd29",
     "regions": {
      "90de40ef-ae60-4fca-a646-68b078986e12": {
       "attrs": {
        "height": 0.8,
        "width": 0.8,
        "x": 0.1,
        "y": 0.1
       },
       "content": {
        "cell": "7cf7aa57-4d25-44fb-a572-4109393d2f49",
        "part": "whole"
       },
       "id": "90de40ef-ae60-4fca-a646-68b078986e12"
      }
     }
    },
    "d040db24-7af9-41b6-bcda-350168152cc4": {
     "id": "d040db24-7af9-41b6-bcda-350168152cc4",
     "prev": "0a18e1f7-8d30-46f4-b334-917215458b91",
     "regions": {
      "3ffda6f4-4fdc-4ff6-b3fa-d2e7f4055f31": {
       "attrs": {
        "height": 0.8,
        "width": 0.8,
        "x": 0.1,
        "y": 0.1
       },
       "content": {
        "cell": "a62997da-7e83-4fe1-86c1-bc871364886e",
        "part": "whole"
       },
       "id": "3ffda6f4-4fdc-4ff6-b3fa-d2e7f4055f31"
      }
     }
    },
    "d856e03e-c89d-41c0-92bb-42c321a09733": {
     "id": "d856e03e-c89d-41c0-92bb-42c321a09733",
     "prev": "96ea278e-00ea-4615-8e50-53164b2850a9",
     "regions": {
      "5237a218-982f-4f8f-a4f0-03d594b87430": {
       "attrs": {
        "height": 0.8,
        "width": 0.8,
        "x": 0.1,
        "y": 0.1
       },
       "content": {
        "cell": "5d45638e-a2fe-4c43-bc18-ad389d0ab761",
        "part": "whole"
       },
       "id": "5237a218-982f-4f8f-a4f0-03d594b87430"
      }
     }
    },
    "dc0c2126-e818-423c-ba72-12172d7e36c2": {
     "id": "dc0c2126-e818-423c-ba72-12172d7e36c2",
     "prev": "ae13154b-693e-4222-80f6-11c73e8264e8",
     "regions": {
      "adbfcd5b-c58c-4e59-bb00-f8907c4d2237": {
       "attrs": {
        "height": 0.8,
        "width": 0.8,
        "x": 0.1,
        "y": 0.1
       },
       "content": {
        "cell": "6ce2aad3-3512-4060-9e6b-766a5d006dad",
        "part": "whole"
       },
       "id": "adbfcd5b-c58c-4e59-bb00-f8907c4d2237"
      }
     }
    },
    "dee462b9-2414-4e3d-8691-6f174986b526": {
     "id": "dee462b9-2414-4e3d-8691-6f174986b526",
     "prev": "46899c31-1d7d-40c5-aa4b-3463dc9e5716",
     "regions": {
      "5d388a8f-0842-4a6a-a00b-71d884ac0a4f": {
       "attrs": {
        "height": 0.8,
        "width": 0.8,
        "x": 0.1,
        "y": 0.1
       },
       "content": {
        "cell": "efc7e68b-1d2e-4735-84cf-acbca8b0e361",
        "part": "whole"
       },
       "id": "5d388a8f-0842-4a6a-a00b-71d884ac0a4f"
      }
     }
    },
    "e2f42c46-3477-4793-a071-bc914b667f57": {
     "id": "e2f42c46-3477-4793-a071-bc914b667f57",
     "prev": "91b4fb55-48b7-4aba-a72a-213ff1a433f5",
     "regions": {
      "375cd742-7387-4a12-bb72-67d3b73fa5a4": {
       "attrs": {
        "height": 0.8,
        "width": 0.8,
        "x": 0.1,
        "y": 0.1
       },
       "content": {
        "cell": "7049fd29-f353-49b8-93c6-6f8feaaa5c2c",
        "part": "whole"
       },
       "id": "375cd742-7387-4a12-bb72-67d3b73fa5a4"
      }
     }
    },
    "eab56274-f7d6-4eee-a690-31d0ef546e6e": {
     "id": "eab56274-f7d6-4eee-a690-31d0ef546e6e",
     "prev": "7b8f031e-40f7-4144-aa6a-865c2ee6c9df",
     "regions": {
      "6cc0bded-f4b6-4db9-90cb-007ab9e26c6b": {
       "attrs": {
        "height": 0.8,
        "width": 0.8,
        "x": 0.1,
        "y": 0.1
       },
       "content": {
        "cell": "60e6c324-08d2-4d30-be74-8f50f86bc3fc",
        "part": "whole"
       },
       "id": "6cc0bded-f4b6-4db9-90cb-007ab9e26c6b"
      }
     }
    },
    "f15cb19d-6a9f-4e36-9761-03240aaafd4d": {
     "id": "f15cb19d-6a9f-4e36-9761-03240aaafd4d",
     "prev": "a673d728-eef2-4bf2-8b88-acef1109d779",
     "regions": {
      "09fd74fd-15b1-47a5-b4f3-2ef517c28e78": {
       "attrs": {
        "height": 0.8,
        "width": 0.8,
        "x": 0.1,
        "y": 0.1
       },
       "content": {
        "cell": "ff30e7c0-7e23-4362-972a-7cf2140d01f6",
        "part": "whole"
       },
       "id": "09fd74fd-15b1-47a5-b4f3-2ef517c28e78"
      }
     }
    },
    "f16cc87d-3aeb-42ce-a59c-b37df8fedd29": {
     "id": "f16cc87d-3aeb-42ce-a59c-b37df8fedd29",
     "prev": "d856e03e-c89d-41c0-92bb-42c321a09733",
     "regions": {
      "8bc426ae-6a12-4746-9089-9bf2a350cd6a": {
       "attrs": {
        "height": 0.8,
        "width": 0.8,
        "x": 0.1,
        "y": 0.1
       },
       "content": {
        "cell": "d67b10db-7850-42f4-9753-9aa6318af556",
        "part": "whole"
       },
       "id": "8bc426ae-6a12-4746-9089-9bf2a350cd6a"
      }
     }
    }
   },
   "themes": {}
  }
 },
 "nbformat": 4,
 "nbformat_minor": 1
}
